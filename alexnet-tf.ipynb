{
 "cells": [
  {
   "cell_type": "markdown",
   "id": "464e98af-ca23-419a-bb70-4763ea81395b",
   "metadata": {},
   "source": [
    "# CNN - Alexnet - Transfer learning"
   ]
  },
  {
   "cell_type": "code",
   "execution_count": 1,
   "id": "f375dc82-1d19-4ad8-bf22-a81f5fdb6c71",
   "metadata": {},
   "outputs": [],
   "source": [
    "import os\n",
    "import pandas as pd\n",
    "import numpy as np\n",
    "import time\n",
    "\n",
    "import torch\n",
    "import torchvision\n",
    "import torch.nn as nn\n",
    "import torch.optim as optim\n",
    "\n",
    "\n",
    "import matplotlib.pyplot as plt\n",
    "\n",
    "from torchvision import models\n",
    "from torchinfo import summary\n",
    "from torchvision import datasets, transforms\n",
    "from torch.utils.data import random_split, DataLoader, Dataset\n",
    "from torchmetrics.classification import MulticlassConfusionMatrix, MulticlassPrecision, MulticlassRecall, MulticlassF1Score\n",
    "from sklearn.metrics import confusion_matrix, ConfusionMatrixDisplay, classification_report "
   ]
  },
  {
   "cell_type": "markdown",
   "id": "63b4a53f-a5f8-466f-83f4-20cbb08edab1",
   "metadata": {},
   "source": [
    "## Loading Dataset"
   ]
  },
  {
   "cell_type": "code",
   "execution_count": 2,
   "id": "8fc6891b-1c5e-47e6-847b-5b5ee6b8f4b9",
   "metadata": {},
   "outputs": [
    {
     "data": {
      "text/plain": [
       "'/home/viviane/projects/data/animal_10/raw-img_training'"
      ]
     },
     "execution_count": 2,
     "metadata": {},
     "output_type": "execute_result"
    }
   ],
   "source": [
    "path = os.path.realpath('data/animal_10')\n",
    "list_path = path.split('/')\n",
    "list_path.remove('animal_cnn')\n",
    "list_path.remove('animal-project')\n",
    "path_training = os.path.join('/'.join(list_path), 'raw-img_training')\n",
    "path_training"
   ]
  },
  {
   "cell_type": "code",
   "execution_count": 3,
   "id": "cd8d417d-6b1d-4a83-a2ed-61c0f5c5b4e5",
   "metadata": {},
   "outputs": [
    {
     "name": "stdout",
     "output_type": "stream",
     "text": [
      "['butterfly', 'cat', 'cow', 'dog', 'elephant', 'hen', 'horse', 'sheep', 'spider', 'squirrel']\n"
     ]
    }
   ],
   "source": [
    "dataset = datasets.ImageFolder(\n",
    "    root=path_training, \n",
    "    transform=transforms.ToTensor()\n",
    ")\n",
    "classes = dataset.classes\n",
    "print(classes)"
   ]
  },
  {
   "cell_type": "code",
   "execution_count": 4,
   "id": "312e97ac-2b50-4617-8e58-68020d8ed3e3",
   "metadata": {},
   "outputs": [
    {
     "data": {
      "text/plain": [
       "'/home/viviane/projects/data/animal_10/raw_img_test'"
      ]
     },
     "execution_count": 4,
     "metadata": {},
     "output_type": "execute_result"
    }
   ],
   "source": [
    "path = os.path.realpath('data/animal_10')\n",
    "list_path = path.split('/')\n",
    "list_path.remove('animal_cnn')\n",
    "list_path.remove('animal-project')\n",
    "path_val = os.path.join('/'.join(list_path), 'raw_img_test')\n",
    "path_val"
   ]
  },
  {
   "cell_type": "code",
   "execution_count": 5,
   "id": "e659110d-932a-4a08-afad-d7391e1326fc",
   "metadata": {},
   "outputs": [],
   "source": [
    "train_dir = path_training\n",
    "val_dir = path_val"
   ]
  },
  {
   "cell_type": "code",
   "execution_count": 6,
   "id": "d0e23ccd-7a62-411c-b8bf-953cdf62b971",
   "metadata": {},
   "outputs": [],
   "source": [
    "IMAGE_SIZE = 227\n",
    "BATCH_SIZE = 16"
   ]
  },
  {
   "cell_type": "markdown",
   "id": "a07d143c-88e8-4a5f-954e-3f922719af64",
   "metadata": {},
   "source": [
    "## Preprocessing"
   ]
  },
  {
   "cell_type": "code",
   "execution_count": 7,
   "id": "2c4577bc-2d80-4902-bed3-0f3c845d898e",
   "metadata": {},
   "outputs": [
    {
     "name": "stdout",
     "output_type": "stream",
     "text": [
      "Training samples: 10472, Test samples: 2619, Validation samples: 13091\n"
     ]
    }
   ],
   "source": [
    "# Define data augmentation for the training dataset\n",
    "train_transforms = transforms.Compose([\n",
    "    transforms.RandomResizedCrop(IMAGE_SIZE),   # Random crop and resize\n",
    "    transforms.RandomHorizontalFlip(p=0.5),     # Random horizontal flip\n",
    "    transforms.RandomRotation(20),              # Random rotation within ±20 degrees\n",
    "    transforms.ColorJitter(brightness=0.2, contrast=0.2, saturation=0.2, hue=0.1),\n",
    "    transforms.RandomAffine(degrees=0, shear=10, scale=(0.8, 1.2)),  # Shearing\n",
    "    transforms.ToTensor(),                      # Convert to tensor\n",
    "    transforms.Normalize(mean=[0.5, 0.5, 0.5], std=[0.5, 0.5, 0.5]) # Normalize\n",
    "])\n",
    "\n",
    "# Define validation dataset - no augmentation, only resizing and normalization\n",
    "val_transforms = transforms.Compose([\n",
    "    transforms.Resize((IMAGE_SIZE, IMAGE_SIZE)),\n",
    "    transforms.ToTensor(),\n",
    "    transforms.Normalize(mean=[0.5, 0.5, 0.5], std=[0.5, 0.5, 0.5])\n",
    "])\n",
    "\n",
    "\n",
    "# split train_dataset and load\n",
    "train_dataset = torchvision.datasets.ImageFolder(root=train_dir, transform=train_transforms)\n",
    "val_dataset = torchvision.datasets.ImageFolder(root=val_dir, transform=val_transforms)\n",
    "\n",
    "train_size = int(0.8 * len(train_dataset))  # 80% for training\n",
    "test_size = len(train_dataset) - train_size  # Remaining for testing\n",
    "\n",
    "train_dataset, test_dataset = random_split(train_dataset, [train_size, test_size])\n",
    "\n",
    "# Define loaders\n",
    "train_loader = DataLoader(train_dataset, batch_size=BATCH_SIZE, shuffle=True)\n",
    "test_loader = DataLoader(test_dataset, batch_size=BATCH_SIZE, shuffle=True)\n",
    "\n",
    "val_loader = DataLoader(val_dataset, batch_size=BATCH_SIZE, shuffle=False)\n",
    "\n",
    "print(f'Training samples: {len(train_dataset)}, Test samples: {len(test_dataset)}, Validation samples: {len(val_dataset)}')"
   ]
  },
  {
   "cell_type": "code",
   "execution_count": 8,
   "id": "06e3ce4c-0685-4812-ba65-61cee1e2bc64",
   "metadata": {},
   "outputs": [
    {
     "name": "stdout",
     "output_type": "stream",
     "text": [
      "Training samples: 655, Test samples: 164, Validation samples: 819\n"
     ]
    }
   ],
   "source": [
    "print(f'Training samples: {len(train_loader)}, Test samples: {len(test_loader)}, Validation samples: {len(val_loader)}')"
   ]
  },
  {
   "cell_type": "markdown",
   "id": "af68df9b-d9a0-44f1-b2bc-85bddec9f422",
   "metadata": {},
   "source": [
    "## Architecture"
   ]
  },
  {
   "cell_type": "code",
   "execution_count": 9,
   "id": "ecc27f8b-d176-4fa0-ab31-ab8743f9fb2c",
   "metadata": {},
   "outputs": [
    {
     "name": "stderr",
     "output_type": "stream",
     "text": [
      "Downloading: \"https://download.pytorch.org/models/alexnet-owt-7be5be79.pth\" to /home/viviane/.cache/torch/hub/checkpoints/alexnet-owt-7be5be79.pth\n",
      "\n",
      "00.0%"
     ]
    },
    {
     "name": "stdout",
     "output_type": "stream",
     "text": [
      "AlexNet(\n",
      "  (features): Sequential(\n",
      "    (0): Conv2d(3, 64, kernel_size=(11, 11), stride=(4, 4), padding=(2, 2))\n",
      "    (1): ReLU(inplace=True)\n",
      "    (2): MaxPool2d(kernel_size=3, stride=2, padding=0, dilation=1, ceil_mode=False)\n",
      "    (3): Conv2d(64, 192, kernel_size=(5, 5), stride=(1, 1), padding=(2, 2))\n",
      "    (4): ReLU(inplace=True)\n",
      "    (5): MaxPool2d(kernel_size=3, stride=2, padding=0, dilation=1, ceil_mode=False)\n",
      "    (6): Conv2d(192, 384, kernel_size=(3, 3), stride=(1, 1), padding=(1, 1))\n",
      "    (7): ReLU(inplace=True)\n",
      "    (8): Conv2d(384, 256, kernel_size=(3, 3), stride=(1, 1), padding=(1, 1))\n",
      "    (9): ReLU(inplace=True)\n",
      "    (10): Conv2d(256, 256, kernel_size=(3, 3), stride=(1, 1), padding=(1, 1))\n",
      "    (11): ReLU(inplace=True)\n",
      "    (12): MaxPool2d(kernel_size=3, stride=2, padding=0, dilation=1, ceil_mode=False)\n",
      "  )\n",
      "  (avgpool): AdaptiveAvgPool2d(output_size=(6, 6))\n",
      "  (classifier): Sequential(\n",
      "    (0): Dropout(p=0.5, inplace=False)\n",
      "    (1): Linear(in_features=9216, out_features=4096, bias=True)\n",
      "    (2): ReLU(inplace=True)\n",
      "    (3): Dropout(p=0.5, inplace=False)\n",
      "    (4): Linear(in_features=4096, out_features=4096, bias=True)\n",
      "    (5): ReLU(inplace=True)\n",
      "    (6): Linear(in_features=4096, out_features=10, bias=True)\n",
      "  )\n",
      ")\n"
     ]
    }
   ],
   "source": [
    "device = torch.device(\"cuda\" if torch.cuda.is_available() else \"cpu\")\n",
    "num_classes = 10\n",
    "\n",
    "model = models.alexnet(weights='IMAGENET1K_V1') \n",
    "model.classifier[6] = nn.Linear(4096, num_classes)\n",
    "model = model.to(device)\n",
    "\n",
    "print(model)\n",
    "\n",
    "criterion = nn.CrossEntropyLoss(label_smoothing=0.1)\n",
    "optimizer = optim.SGD(model.parameters(), lr=0.01, momentum=0.9)"
   ]
  },
  {
   "cell_type": "code",
   "execution_count": 10,
   "id": "2a61fc4c-3cfc-41be-9268-08c7648a0cee",
   "metadata": {},
   "outputs": [
    {
     "data": {
      "text/plain": [
       "==========================================================================================\n",
       "Layer (type:depth-idx)                   Output Shape              Param #\n",
       "==========================================================================================\n",
       "AlexNet                                  [16, 10]                  --\n",
       "├─Sequential: 1-1                        [16, 256, 6, 6]           --\n",
       "│    └─Conv2d: 2-1                       [16, 64, 55, 55]          23,296\n",
       "│    └─ReLU: 2-2                         [16, 64, 55, 55]          --\n",
       "│    └─MaxPool2d: 2-3                    [16, 64, 27, 27]          --\n",
       "│    └─Conv2d: 2-4                       [16, 192, 27, 27]         307,392\n",
       "│    └─ReLU: 2-5                         [16, 192, 27, 27]         --\n",
       "│    └─MaxPool2d: 2-6                    [16, 192, 13, 13]         --\n",
       "│    └─Conv2d: 2-7                       [16, 384, 13, 13]         663,936\n",
       "│    └─ReLU: 2-8                         [16, 384, 13, 13]         --\n",
       "│    └─Conv2d: 2-9                       [16, 256, 13, 13]         884,992\n",
       "│    └─ReLU: 2-10                        [16, 256, 13, 13]         --\n",
       "│    └─Conv2d: 2-11                      [16, 256, 13, 13]         590,080\n",
       "│    └─ReLU: 2-12                        [16, 256, 13, 13]         --\n",
       "│    └─MaxPool2d: 2-13                   [16, 256, 6, 6]           --\n",
       "├─AdaptiveAvgPool2d: 1-2                 [16, 256, 6, 6]           --\n",
       "├─Sequential: 1-3                        [16, 10]                  --\n",
       "│    └─Dropout: 2-14                     [16, 9216]                --\n",
       "│    └─Linear: 2-15                      [16, 4096]                37,752,832\n",
       "│    └─ReLU: 2-16                        [16, 4096]                --\n",
       "│    └─Dropout: 2-17                     [16, 4096]                --\n",
       "│    └─Linear: 2-18                      [16, 4096]                16,781,312\n",
       "│    └─ReLU: 2-19                        [16, 4096]                --\n",
       "│    └─Linear: 2-20                      [16, 10]                  40,970\n",
       "==========================================================================================\n",
       "Total params: 57,044,810\n",
       "Trainable params: 57,044,810\n",
       "Non-trainable params: 0\n",
       "Total mult-adds (Units.GIGABYTES): 11.37\n",
       "==========================================================================================\n",
       "Input size (MB): 9.63\n",
       "Forward/backward pass size (MB): 63.13\n",
       "Params size (MB): 228.18\n",
       "Estimated Total Size (MB): 300.94\n",
       "=========================================================================================="
      ]
     },
     "execution_count": 10,
     "metadata": {},
     "output_type": "execute_result"
    }
   ],
   "source": [
    "summary(model, input_size=(BATCH_SIZE, 3, 224, 224))"
   ]
  },
  {
   "cell_type": "code",
   "execution_count": 11,
   "id": "08c0ef45-e1e7-4554-ada5-4961894bbe6f",
   "metadata": {},
   "outputs": [],
   "source": [
    "## Training"
   ]
  },
  {
   "cell_type": "code",
   "execution_count": 12,
   "id": "f813825e-3260-4dd8-b8dd-7f37c45013e8",
   "metadata": {},
   "outputs": [],
   "source": [
    "def train_model(model, train_loader, val_loader, criterion, optimizer, num_epochs):\n",
    "    train_losses = []\n",
    "    val_losses = []\n",
    "    train_accuracies = []\n",
    "    val_accuracies = []\n",
    "\n",
    "    # Metrics\n",
    "    confusion_matrix = MulticlassConfusionMatrix(num_classes=10)\n",
    "    precision = MulticlassPrecision(num_classes=10, average='macro')\n",
    "    recall = MulticlassRecall(num_classes=10, average='macro')\n",
    "    f1_score = MulticlassF1Score(num_classes=10, average='macro')\n",
    "\n",
    "    for epoch in range(num_epochs):\n",
    "        # Training\n",
    "        model.train()\n",
    "        train_loss = 0.0\n",
    "        correct_train = 0\n",
    "        total_train = 0\n",
    "\n",
    "        for inputs, labels in train_loader:\n",
    "            inputs, labels = inputs.to(device), labels.to(device)\n",
    "\n",
    "            # Clear gradients\n",
    "            optimizer.zero_grad()\n",
    "\n",
    "            # feed foward\n",
    "            outputs = model(inputs)\n",
    "            \n",
    "            # Compute loss using cross entropy\n",
    "            loss = criterion(outputs, labels)\n",
    "\n",
    "            # backpropagation\n",
    "            loss.backward()\n",
    "\n",
    "            # Update weights\n",
    "            optimizer.step()\n",
    "            \n",
    "            # Update results\n",
    "\n",
    "            train_loss += loss.item()\n",
    "            _, preds = torch.max(outputs, 1)\n",
    "            total_train += labels.size(0)\n",
    "            correct_train += (preds == labels).sum().item()\n",
    "\n",
    "        train_losses.append(train_loss / len(train_loader))\n",
    "        train_accuracies.append(100 * correct_train / total_train)\n",
    "\n",
    "        # Evaluation part to print metrics for each epoch\n",
    "        model.eval()\n",
    "        val_loss = 0.0\n",
    "        correct_val = 0\n",
    "        total_val = 0\n",
    "\n",
    "        all_preds = []\n",
    "        all_labels = []\n",
    "\n",
    "        with torch.no_grad():\n",
    "            for inputs, labels in val_loader:\n",
    "                inputs, labels = inputs.to(device), labels.to(device)\n",
    "                outputs = model(inputs)\n",
    "                loss = criterion(outputs, labels)\n",
    "                val_loss += loss.item()\n",
    "\n",
    "                _, preds = torch.max(outputs, 1)\n",
    "                total_val += labels.size(0)\n",
    "                correct_val += (preds == labels).sum().item()\n",
    "\n",
    "                # For metrics\n",
    "                all_preds.append(preds.cpu())\n",
    "                all_labels.append(labels.cpu())\n",
    "\n",
    "        val_losses.append(val_loss / len(val_loader))\n",
    "        val_accuracies.append(100 * correct_val / total_val)\n",
    "\n",
    "        \n",
    "        all_preds = torch.cat(all_preds)\n",
    "        all_labels = torch.cat(all_labels)\n",
    "\n",
    "        \n",
    "        precision_value = precision(all_preds, all_labels)\n",
    "        recall_value = recall(all_preds, all_labels)\n",
    "        f1_value = f1_score(all_preds, all_labels)\n",
    "        conf_matrix = confusion_matrix(all_preds, all_labels)\n",
    "\n",
    "        \n",
    "        print(f\"Epoch {epoch + 1}/{num_epochs}\")\n",
    "        print(f\"Train Loss: {train_losses[-1]:.4f} | Train Acc: {train_accuracies[-1]:.2f}%\")\n",
    "        print(f\"Val Loss: {val_losses[-1]:.4f} | Val Acc: {val_accuracies[-1]:.2f}%\")\n",
    "        print(f\"Precision: {precision_value:.4f} | Recall: {recall_value:.4f} | F1 Score: {f1_value:.4f}\\n\")\n",
    "\n",
    "    return train_losses, val_losses, train_accuracies, val_accuracies, conf_matrix"
   ]
  },
  {
   "cell_type": "code",
   "execution_count": 13,
   "id": "27c22f6b-eeec-4ea8-b7bf-e888c3b3ea3f",
   "metadata": {
    "scrolled": true
   },
   "outputs": [
    {
     "name": "stdout",
     "output_type": "stream",
     "text": [
      "Using device: cuda\n",
      "Epoch 1/50\n",
      "Train Loss: 2.2282 | Train Acc: 20.26%\n",
      "Val Loss: 2.2095 | Val Acc: 23.37%\n",
      "Precision: 0.1379 | Recall: 0.1692 | F1 Score: 0.1004\n",
      "\n",
      "Epoch 2/50\n",
      "Train Loss: 2.0494 | Train Acc: 31.24%\n",
      "Val Loss: 1.8443 | Val Acc: 39.14%\n",
      "Precision: 0.5361 | Recall: 0.3352 | F1 Score: 0.3253\n",
      "\n",
      "Epoch 3/50\n",
      "Train Loss: 1.7895 | Train Acc: 44.44%\n",
      "Val Loss: 1.6545 | Val Acc: 49.79%\n",
      "Precision: 0.5203 | Recall: 0.4675 | F1 Score: 0.4596\n",
      "\n",
      "Epoch 4/50\n",
      "Train Loss: 1.6802 | Train Acc: 49.72%\n",
      "Val Loss: 1.6553 | Val Acc: 49.45%\n",
      "Precision: 0.5848 | Recall: 0.4165 | F1 Score: 0.4330\n",
      "\n",
      "Epoch 5/50\n",
      "Train Loss: 1.6186 | Train Acc: 52.51%\n",
      "Val Loss: 1.6976 | Val Acc: 49.06%\n",
      "Precision: 0.5639 | Recall: 0.4306 | F1 Score: 0.4134\n",
      "\n",
      "Epoch 6/50\n",
      "Train Loss: 1.5707 | Train Acc: 54.29%\n",
      "Val Loss: 1.5543 | Val Acc: 55.86%\n",
      "Precision: 0.5774 | Recall: 0.4970 | F1 Score: 0.5119\n",
      "\n",
      "Epoch 7/50\n",
      "Train Loss: 1.5474 | Train Acc: 55.52%\n",
      "Val Loss: 1.4626 | Val Acc: 59.79%\n",
      "Precision: 0.6098 | Recall: 0.5509 | F1 Score: 0.5689\n",
      "\n",
      "Epoch 8/50\n",
      "Train Loss: 1.5291 | Train Acc: 56.78%\n",
      "Val Loss: 1.5186 | Val Acc: 56.09%\n",
      "Precision: 0.6413 | Recall: 0.4997 | F1 Score: 0.5239\n",
      "\n",
      "Epoch 9/50\n",
      "Train Loss: 1.5140 | Train Acc: 57.16%\n",
      "Val Loss: 1.5767 | Val Acc: 53.53%\n",
      "Precision: 0.6474 | Recall: 0.4441 | F1 Score: 0.4650\n",
      "\n",
      "Epoch 10/50\n",
      "Train Loss: 1.5100 | Train Acc: 57.85%\n",
      "Val Loss: 1.5245 | Val Acc: 57.77%\n",
      "Precision: 0.6844 | Recall: 0.5028 | F1 Score: 0.5341\n",
      "\n",
      "Epoch 11/50\n",
      "Train Loss: 1.4766 | Train Acc: 59.16%\n",
      "Val Loss: 1.4243 | Val Acc: 62.01%\n",
      "Precision: 0.6484 | Recall: 0.5665 | F1 Score: 0.5843\n",
      "\n",
      "Epoch 12/50\n",
      "Train Loss: 1.4755 | Train Acc: 59.68%\n",
      "Val Loss: 1.4592 | Val Acc: 60.75%\n",
      "Precision: 0.6375 | Recall: 0.5584 | F1 Score: 0.5780\n",
      "\n",
      "Epoch 13/50\n",
      "Train Loss: 1.4737 | Train Acc: 59.33%\n",
      "Val Loss: 1.4186 | Val Acc: 61.24%\n",
      "Precision: 0.6452 | Recall: 0.5518 | F1 Score: 0.5782\n",
      "\n",
      "Epoch 14/50\n",
      "Train Loss: 1.4694 | Train Acc: 59.67%\n",
      "Val Loss: 1.4460 | Val Acc: 61.74%\n",
      "Precision: 0.6832 | Recall: 0.5488 | F1 Score: 0.5865\n",
      "\n",
      "Epoch 15/50\n",
      "Train Loss: 1.4686 | Train Acc: 59.40%\n",
      "Val Loss: 1.4963 | Val Acc: 57.77%\n",
      "Precision: 0.6596 | Recall: 0.5247 | F1 Score: 0.5459\n",
      "\n",
      "Epoch 16/50\n",
      "Train Loss: 1.4747 | Train Acc: 59.88%\n",
      "Val Loss: 1.4214 | Val Acc: 61.09%\n",
      "Precision: 0.6763 | Recall: 0.5337 | F1 Score: 0.5577\n",
      "\n",
      "Epoch 17/50\n",
      "Train Loss: 1.4630 | Train Acc: 60.40%\n",
      "Val Loss: 1.4818 | Val Acc: 58.00%\n",
      "Precision: 0.6737 | Recall: 0.5013 | F1 Score: 0.5354\n",
      "\n",
      "Epoch 18/50\n",
      "Train Loss: 1.4655 | Train Acc: 59.98%\n",
      "Val Loss: 1.4625 | Val Acc: 59.64%\n",
      "Precision: 0.6633 | Recall: 0.5233 | F1 Score: 0.5470\n",
      "\n",
      "Epoch 19/50\n",
      "Train Loss: 1.4598 | Train Acc: 60.37%\n",
      "Val Loss: 1.4489 | Val Acc: 60.21%\n",
      "Precision: 0.6752 | Recall: 0.5381 | F1 Score: 0.5664\n",
      "\n",
      "Epoch 20/50\n",
      "Train Loss: 1.4653 | Train Acc: 60.39%\n",
      "Val Loss: 1.5234 | Val Acc: 57.85%\n",
      "Precision: 0.6084 | Recall: 0.5372 | F1 Score: 0.5550\n",
      "\n",
      "Epoch 21/50\n",
      "Train Loss: 1.4557 | Train Acc: 60.71%\n",
      "Val Loss: 1.3754 | Val Acc: 62.89%\n",
      "Precision: 0.6631 | Recall: 0.5763 | F1 Score: 0.5979\n",
      "\n",
      "Epoch 22/50\n",
      "Train Loss: 1.4643 | Train Acc: 60.33%\n",
      "Val Loss: 1.4371 | Val Acc: 62.47%\n",
      "Precision: 0.6936 | Recall: 0.5569 | F1 Score: 0.5838\n",
      "\n",
      "Epoch 23/50\n",
      "Train Loss: 1.4673 | Train Acc: 60.48%\n",
      "Val Loss: 1.4473 | Val Acc: 62.24%\n",
      "Precision: 0.6673 | Recall: 0.5804 | F1 Score: 0.6019\n",
      "\n",
      "Epoch 24/50\n",
      "Train Loss: 1.4515 | Train Acc: 61.36%\n",
      "Val Loss: 1.5334 | Val Acc: 56.28%\n",
      "Precision: 0.7259 | Recall: 0.4740 | F1 Score: 0.5113\n",
      "\n",
      "Epoch 25/50\n",
      "Train Loss: 1.4649 | Train Acc: 60.48%\n",
      "Val Loss: 1.4856 | Val Acc: 59.56%\n",
      "Precision: 0.6610 | Recall: 0.5344 | F1 Score: 0.5693\n",
      "\n",
      "Epoch 26/50\n",
      "Train Loss: 1.4495 | Train Acc: 60.70%\n",
      "Val Loss: 1.4909 | Val Acc: 59.56%\n",
      "Precision: 0.6476 | Recall: 0.5357 | F1 Score: 0.5613\n",
      "\n",
      "Epoch 27/50\n",
      "Train Loss: 1.4848 | Train Acc: 59.47%\n",
      "Val Loss: 1.5096 | Val Acc: 59.34%\n",
      "Precision: 0.6503 | Recall: 0.5387 | F1 Score: 0.5648\n",
      "\n",
      "Epoch 28/50\n",
      "Train Loss: 1.4751 | Train Acc: 59.92%\n",
      "Val Loss: 1.5703 | Val Acc: 56.59%\n",
      "Precision: 0.6439 | Recall: 0.4809 | F1 Score: 0.5125\n",
      "\n",
      "Epoch 29/50\n",
      "Train Loss: 1.4885 | Train Acc: 59.66%\n",
      "Val Loss: 1.4679 | Val Acc: 59.53%\n",
      "Precision: 0.6458 | Recall: 0.5418 | F1 Score: 0.5579\n",
      "\n",
      "Epoch 30/50\n",
      "Train Loss: 1.4725 | Train Acc: 60.38%\n",
      "Val Loss: 1.4474 | Val Acc: 60.60%\n",
      "Precision: 0.6921 | Recall: 0.5349 | F1 Score: 0.5653\n",
      "\n",
      "Epoch 31/50\n",
      "Train Loss: 1.4715 | Train Acc: 60.28%\n",
      "Val Loss: 1.5170 | Val Acc: 56.66%\n",
      "Precision: 0.6843 | Recall: 0.4946 | F1 Score: 0.5382\n",
      "\n",
      "Epoch 32/50\n",
      "Train Loss: 1.4891 | Train Acc: 59.40%\n",
      "Val Loss: 1.4942 | Val Acc: 59.22%\n",
      "Precision: 0.6711 | Recall: 0.5151 | F1 Score: 0.5528\n",
      "\n",
      "Epoch 33/50\n",
      "Train Loss: 1.4944 | Train Acc: 59.33%\n",
      "Val Loss: 1.4540 | Val Acc: 61.05%\n",
      "Precision: 0.6527 | Recall: 0.5511 | F1 Score: 0.5825\n",
      "\n",
      "Epoch 34/50\n",
      "Train Loss: 1.4925 | Train Acc: 59.25%\n",
      "Val Loss: 1.4970 | Val Acc: 58.99%\n",
      "Precision: 0.6756 | Recall: 0.5156 | F1 Score: 0.5451\n",
      "\n",
      "Epoch 35/50\n",
      "Train Loss: 1.5132 | Train Acc: 58.19%\n",
      "Val Loss: 1.5031 | Val Acc: 59.83%\n",
      "Precision: 0.6425 | Recall: 0.5298 | F1 Score: 0.5580\n",
      "\n",
      "Epoch 36/50\n",
      "Train Loss: 1.5121 | Train Acc: 58.72%\n",
      "Val Loss: 1.5320 | Val Acc: 59.11%\n",
      "Precision: 0.6227 | Recall: 0.5350 | F1 Score: 0.5603\n",
      "\n",
      "Epoch 37/50\n",
      "Train Loss: 1.5125 | Train Acc: 58.97%\n",
      "Val Loss: 1.5515 | Val Acc: 57.01%\n",
      "Precision: 0.6214 | Recall: 0.5119 | F1 Score: 0.5352\n",
      "\n",
      "Epoch 38/50\n",
      "Train Loss: 1.5248 | Train Acc: 58.17%\n",
      "Val Loss: 1.5383 | Val Acc: 56.05%\n",
      "Precision: 0.7086 | Recall: 0.4797 | F1 Score: 0.5172\n",
      "\n",
      "Epoch 39/50\n",
      "Train Loss: 1.5450 | Train Acc: 57.16%\n",
      "Val Loss: 1.5573 | Val Acc: 55.98%\n",
      "Precision: 0.6382 | Recall: 0.4872 | F1 Score: 0.5222\n",
      "\n",
      "Epoch 40/50\n",
      "Train Loss: 1.5436 | Train Acc: 57.14%\n",
      "Val Loss: 1.5490 | Val Acc: 57.27%\n",
      "Precision: 0.6713 | Recall: 0.5022 | F1 Score: 0.5373\n",
      "\n",
      "Epoch 41/50\n",
      "Train Loss: 1.5714 | Train Acc: 55.84%\n",
      "Val Loss: 1.5688 | Val Acc: 55.48%\n",
      "Precision: 0.6792 | Recall: 0.4739 | F1 Score: 0.5054\n",
      "\n",
      "Epoch 42/50\n",
      "Train Loss: 1.5316 | Train Acc: 58.11%\n",
      "Val Loss: 1.5739 | Val Acc: 56.24%\n",
      "Precision: 0.5964 | Recall: 0.5273 | F1 Score: 0.5485\n",
      "\n",
      "Epoch 43/50\n",
      "Train Loss: 1.5676 | Train Acc: 56.45%\n",
      "Val Loss: 1.5422 | Val Acc: 58.30%\n",
      "Precision: 0.6855 | Recall: 0.5089 | F1 Score: 0.5527\n",
      "\n",
      "Epoch 44/50\n",
      "Train Loss: 1.5995 | Train Acc: 55.02%\n",
      "Val Loss: 1.6389 | Val Acc: 52.12%\n",
      "Precision: 0.7269 | Recall: 0.4143 | F1 Score: 0.4490\n",
      "\n",
      "Epoch 45/50\n",
      "Train Loss: 1.6036 | Train Acc: 55.38%\n",
      "Val Loss: 1.6060 | Val Acc: 54.79%\n",
      "Precision: 0.6476 | Recall: 0.4719 | F1 Score: 0.5080\n",
      "\n",
      "Epoch 46/50\n",
      "Train Loss: 1.5797 | Train Acc: 55.87%\n",
      "Val Loss: 1.6213 | Val Acc: 55.21%\n",
      "Precision: 0.6216 | Recall: 0.4874 | F1 Score: 0.5133\n",
      "\n",
      "Epoch 47/50\n",
      "Train Loss: 1.6169 | Train Acc: 54.60%\n",
      "Val Loss: 1.6722 | Val Acc: 51.85%\n",
      "Precision: 0.6223 | Recall: 0.4401 | F1 Score: 0.4721\n",
      "\n",
      "Epoch 48/50\n",
      "Train Loss: 1.6761 | Train Acc: 51.95%\n",
      "Val Loss: 1.6139 | Val Acc: 53.61%\n",
      "Precision: 0.7062 | Recall: 0.4446 | F1 Score: 0.4811\n",
      "\n",
      "Epoch 49/50\n",
      "Train Loss: 1.6291 | Train Acc: 53.82%\n",
      "Val Loss: 1.6089 | Val Acc: 53.88%\n",
      "Precision: 0.6506 | Recall: 0.4553 | F1 Score: 0.4960\n",
      "\n",
      "Epoch 50/50\n",
      "Train Loss: 1.6504 | Train Acc: 52.87%\n",
      "Val Loss: 1.6952 | Val Acc: 49.56%\n",
      "Precision: 0.5799 | Recall: 0.4416 | F1 Score: 0.4623\n",
      "\n",
      "######## Training Finished in 5487.647266387939 seconds ###########\n"
     ]
    }
   ],
   "source": [
    "t1 = time.time()\n",
    "print(f\"Using device: {device}\")\n",
    "\n",
    "train_losses, val_losses, train_accuracies, val_accuracies, conf_matrix = train_model(\n",
    "    model, train_loader, test_loader, criterion, optimizer, num_epochs=50)\n",
    "\n",
    "print(\"######## Training Finished in {} seconds ###########\".format(time.time()-t1))"
   ]
  },
  {
   "cell_type": "markdown",
   "id": "23960324-a0d4-481f-92a0-19e37618f8cb",
   "metadata": {},
   "source": [
    "## Evaluating"
   ]
  },
  {
   "cell_type": "code",
   "execution_count": 14,
   "id": "b464c0d5-b15a-4b0d-84ab-e30b56ebdb12",
   "metadata": {},
   "outputs": [
    {
     "name": "stdout",
     "output_type": "stream",
     "text": [
      "Test Accuracy of the model on the 2619 test images: 50.02%\n"
     ]
    }
   ],
   "source": [
    "model.eval() \n",
    "\n",
    "with torch.no_grad(): \n",
    "    correct = 0\n",
    "    total = 0\n",
    "    for data in test_loader:\n",
    "        images, labels = data[0].to(device), data[1].to(device)\n",
    "        outputs = model(images)\n",
    "        _, predicted = torch.max(outputs.data, 1)\n",
    "        total += labels.size(0)\n",
    "        correct += (predicted == labels).sum().item()\n",
    "    print(f'Test Accuracy of the model on the {total} test images: {(correct / total) * 100:.2f}%')"
   ]
  },
  {
   "cell_type": "code",
   "execution_count": 15,
   "id": "4f991644-b519-4832-95c4-4522d30f9ed9",
   "metadata": {},
   "outputs": [
    {
     "data": {
      "image/png": "[encoded data removed]",
      "text/plain": [
       "<Figure size 1200x500 with 2 Axes>"
      ]
     },
     "metadata": {},
     "output_type": "display_data"
    }
   ],
   "source": [
    "def plot_training(train_losses, val_losses, train_accuracies, val_accuracies):\n",
    "    epochs = range(1, len(train_losses) + 1)\n",
    "\n",
    "    plt.figure(figsize=(12, 5))\n",
    "    \n",
    "    # Plot loss\n",
    "    plt.subplot(1, 2, 1)\n",
    "    plt.plot(epochs, train_losses, label='Train Loss')\n",
    "    plt.plot(epochs, val_losses, label='Val Loss')\n",
    "    plt.xlabel('Epochs')\n",
    "    plt.ylabel('Loss')\n",
    "    plt.title('Training and Validation Loss')\n",
    "    plt.legend()\n",
    "\n",
    "    # Plot accuracy\n",
    "    plt.subplot(1, 2, 2)\n",
    "    plt.plot(epochs, train_accuracies, label='Train Accuracy')\n",
    "    plt.plot(epochs, val_accuracies, label='Val Accuracy')\n",
    "    plt.xlabel('Epochs')\n",
    "    plt.ylabel('Accuracy (%)')\n",
    "    plt.title('Training and Validation Accuracy')\n",
    "    plt.legend()\n",
    "\n",
    "    plt.show()\n",
    "\n",
    "plot_training(train_losses, val_losses, train_accuracies, val_accuracies)"
   ]
  },
  {
   "cell_type": "code",
   "execution_count": 16,
   "id": "67018e34-86a0-4050-8a9f-ad06eb23479f",
   "metadata": {},
   "outputs": [],
   "source": [
    "### Confusion Matrix"
   ]
  },
  {
   "cell_type": "code",
   "execution_count": 17,
   "id": "60ada500-b0a9-42db-8d4d-6d4d06c2eb9c",
   "metadata": {},
   "outputs": [
    {
     "data": {
      "text/plain": [
       "<sklearn.metrics._plot.confusion_matrix.ConfusionMatrixDisplay at 0x7f9c18539940>"
      ]
     },
     "execution_count": 17,
     "metadata": {},
     "output_type": "execute_result"
    },
    {
     "data": {
      "image/png": "[encoded data removed]",
      "text/plain": [
       "<Figure size 640x480 with 2 Axes>"
      ]
     },
     "metadata": {},
     "output_type": "display_data"
    }
   ],
   "source": [
    "cm = conf_matrix.cpu().numpy()\n",
    "disp = ConfusionMatrixDisplay(cm, display_labels=classes,)\n",
    "disp.plot()"
   ]
  },
  {
   "cell_type": "markdown",
   "id": "312529f9-800f-4dec-b17f-6fef87826e89",
   "metadata": {},
   "source": [
    "### Metrics"
   ]
  },
  {
   "cell_type": "code",
   "execution_count": 18,
   "id": "c43bc575-866e-440a-8c38-92e3981e232b",
   "metadata": {},
   "outputs": [
    {
     "name": "stdout",
     "output_type": "stream",
     "text": [
      "Class 0-butterfly: Precision: 0.87, Recall: 0.57, F1-Score: 0.69\n",
      "Class 1-cat: Precision: 0.82, Recall: 0.43, F1-Score: 0.57\n",
      "Class 2-cow: Precision: 0.49, Recall: 0.38, F1-Score: 0.43\n",
      "Class 3-dog: Precision: 0.58, Recall: 0.75, F1-Score: 0.65\n",
      "Class 4-elephant: Precision: 0.47, Recall: 0.71, F1-Score: 0.56\n",
      "Class 5-hen: Precision: 0.88, Recall: 0.51, F1-Score: 0.65\n",
      "Class 6-horse: Precision: 0.72, Recall: 0.44, F1-Score: 0.55\n",
      "Class 7-sheep: Precision: 0.53, Recall: 0.62, F1-Score: 0.57\n",
      "Class 8-spider: Precision: 0.65, Recall: 0.92, F1-Score: 0.76\n",
      "Class 9-squirrel: Precision: 0.67, Recall: 0.58, F1-Score: 0.62\n"
     ]
    }
   ],
   "source": [
    "precision = MulticlassPrecision(num_classes=num_classes, average=None)\n",
    "recall = MulticlassRecall(num_classes=num_classes, average=None)\n",
    "f1_score = MulticlassF1Score(num_classes=num_classes, average=None)\n",
    "\n",
    "\n",
    "all_preds = []\n",
    "all_labels = []\n",
    "\n",
    "model.eval()\n",
    "with torch.no_grad():\n",
    "    for inputs, labels in val_loader:\n",
    "        inputs, labels = inputs.to(device), labels.to(device)\n",
    "        outputs = model(inputs)\n",
    "        _, preds = torch.max(outputs, 1)\n",
    "        all_preds.append(preds.cpu())\n",
    "        all_labels.append(labels.cpu())\n",
    "\n",
    "\n",
    "all_preds = torch.cat(all_preds)\n",
    "all_labels = torch.cat(all_labels)\n",
    "\n",
    "\n",
    "per_class_precision = precision(all_preds, all_labels)\n",
    "per_class_recall = recall(all_preds, all_labels)\n",
    "per_class_f1 = f1_score(all_preds, all_labels)\n",
    "\n",
    "\n",
    "for i, name in enumerate(classes):\n",
    "    print(f\"Class {i}-{name}: Precision: {per_class_precision[i]:.2f}, Recall: {per_class_recall[i]:.2f}, F1-Score: {per_class_f1[i]:.2f}\")"
   ]
  },
  {
   "cell_type": "code",
   "execution_count": null,
   "id": "54cffd78-3656-49c2-bb3b-5dc063e0874c",
   "metadata": {},
   "outputs": [],
   "source": []
  }
 ],
 "metadata": {
  "kernelspec": {
   "display_name": "Python 3 (ipykernel)",
   "language": "python",
   "name": "python3"
  },
  "language_info": {
   "codemirror_mode": {
    "name": "ipython",
    "version": 3
   },
   "file_extension": ".py",
   "mimetype": "text/x-python",
   "name": "python",
   "nbconvert_exporter": "python",
   "pygments_lexer": "ipython3",
   "version": "3.13.1"
  }
 },
 "nbformat": 4,
 "nbformat_minor": 5
}
