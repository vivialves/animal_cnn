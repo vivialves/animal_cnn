{
 "cells": [
  {
   "cell_type": "markdown",
   "id": "e529ad52-27fb-4860-823f-35a8468611ba",
   "metadata": {},
   "source": [
    "# MBConv"
   ]
  },
  {
   "cell_type": "code",
   "execution_count": 1,
   "id": "b2a5c7c1-a661-44e8-8c92-5b1ede8cb9c8",
   "metadata": {},
   "outputs": [],
   "source": [
    "import os\n",
    "import pandas as pd\n",
    "import numpy as np\n",
    "import time\n",
    "\n",
    "import torch\n",
    "import torchvision\n",
    "import torch.nn as nn\n",
    "import torch.optim as optim\n",
    "import torch.nn as nn\n",
    "import torch.nn.functional as F\n",
    "\n",
    "import matplotlib.pyplot as plt\n",
    "\n",
    "from torchinfo import summary\n",
    "from torchvision import datasets, transforms\n",
    "from torch.utils.data import random_split, DataLoader, Dataset\n",
    "from torchmetrics.classification import MulticlassConfusionMatrix, MulticlassPrecision, MulticlassRecall, MulticlassF1Score\n",
    "from sklearn.metrics import confusion_matrix, ConfusionMatrixDisplay, classification_report "
   ]
  },
  {
   "cell_type": "markdown",
   "id": "1134761f-3390-4ead-9968-69dfff125e03",
   "metadata": {},
   "source": [
    "## Loading Dataset"
   ]
  },
  {
   "cell_type": "code",
   "execution_count": 2,
   "id": "47d93940-9ed4-4f5c-b6a0-faaafb485ab8",
   "metadata": {},
   "outputs": [
    {
     "data": {
      "text/plain": [
       "'/home/viviane/projects/data/animal_10/raw-img_training'"
      ]
     },
     "execution_count": 2,
     "metadata": {},
     "output_type": "execute_result"
    }
   ],
   "source": [
    "path = os.path.realpath('data/animal_10')\n",
    "list_path = path.split('/')\n",
    "list_path.remove('animal_cnn')\n",
    "list_path.remove('animal-project')\n",
    "path_training = os.path.join('/'.join(list_path), 'raw-img_training')\n",
    "path_training"
   ]
  },
  {
   "cell_type": "code",
   "execution_count": 3,
   "id": "4416d207-4ea1-4e29-86ba-f5208971b88b",
   "metadata": {},
   "outputs": [
    {
     "name": "stdout",
     "output_type": "stream",
     "text": [
      "['butterfly', 'cat', 'cow', 'dog', 'elephant', 'hen', 'horse', 'sheep', 'spider', 'squirrel']\n"
     ]
    }
   ],
   "source": [
    "dataset = datasets.ImageFolder(\n",
    "    root=path_training, \n",
    "    transform=transforms.ToTensor()\n",
    ")\n",
    "classes = dataset.classes\n",
    "print(classes)"
   ]
  },
  {
   "cell_type": "code",
   "execution_count": 4,
   "id": "ec957577-1550-455f-b51e-12deec5d7d16",
   "metadata": {},
   "outputs": [
    {
     "data": {
      "text/plain": [
       "'/home/viviane/projects/data/animal_10/raw_img_test'"
      ]
     },
     "execution_count": 4,
     "metadata": {},
     "output_type": "execute_result"
    }
   ],
   "source": [
    "path = os.path.realpath('data/animal_10')\n",
    "list_path = path.split('/')\n",
    "list_path.remove('animal_cnn')\n",
    "list_path.remove('animal-project')\n",
    "path_val = os.path.join('/'.join(list_path), 'raw_img_test')\n",
    "path_val"
   ]
  },
  {
   "cell_type": "markdown",
   "id": "00e312c8-fbef-4f82-a65a-c20da4f816db",
   "metadata": {},
   "source": [
    "## Preprocessing"
   ]
  },
  {
   "cell_type": "code",
   "execution_count": 5,
   "id": "0fb1f98a-3486-4bdd-89be-28a83b392679",
   "metadata": {},
   "outputs": [
    {
     "name": "stdout",
     "output_type": "stream",
     "text": [
      "Training samples: 10472, Test samples: 2619, Validation samples: 13091\n"
     ]
    }
   ],
   "source": [
    "# Define paths for your training and validation datasets\n",
    "train_dir = path_training\n",
    "val_dir = path_val\n",
    "\n",
    "# Define image size and batch size\n",
    "IMAGE_SIZE = 224\n",
    "BATCH_SIZE = 8\n",
    "\n",
    "# Define data augmentation for the training dataset\n",
    "train_transforms = transforms.Compose([\n",
    "    transforms.RandomResizedCrop(IMAGE_SIZE),   # Random crop and resize\n",
    "    transforms.RandomHorizontalFlip(p=0.5),     # Random horizontal flip\n",
    "    transforms.RandomRotation(20),              # Random rotation within ±20 degrees\n",
    "    transforms.ColorJitter(brightness=0.2, contrast=0.2, saturation=0.2, hue=0.1),\n",
    "    transforms.RandomAffine(degrees=0, shear=10, scale=(0.8, 1.2)),  # Shearing\n",
    "    transforms.ToTensor(),                      # Convert to tensor\n",
    "    transforms.Normalize(mean=[0.5, 0.5, 0.5], std=[0.5, 0.5, 0.5]) # Normalize\n",
    "])\n",
    "\n",
    "# Validation dataset transformations (no augmentation, only resizing and normalization)\n",
    "val_transforms = transforms.Compose([\n",
    "    transforms.Resize((IMAGE_SIZE, IMAGE_SIZE)),\n",
    "    transforms.ToTensor(),\n",
    "    transforms.Normalize(mean=[0.5, 0.5, 0.5], std=[0.5, 0.5, 0.5])\n",
    "])\n",
    "\n",
    "\n",
    "# Load datasets\n",
    "train_dataset = torchvision.datasets.ImageFolder(root=train_dir, transform=train_transforms)\n",
    "val_dataset = torchvision.datasets.ImageFolder(root=val_dir, transform=val_transforms)\n",
    "\n",
    "train_size = int(0.8 * len(train_dataset))  # 80% for training\n",
    "test_size = len(train_dataset) - train_size  # Remaining for testing\n",
    "\n",
    "train_dataset, test_dataset = random_split(train_dataset, [train_size, test_size])\n",
    "\n",
    "# Data loaders\n",
    "train_loader = DataLoader(train_dataset, batch_size=BATCH_SIZE, shuffle=True)\n",
    "test_loader = DataLoader(test_dataset, batch_size=BATCH_SIZE, shuffle=True)\n",
    "\n",
    "val_loader = DataLoader(val_dataset, batch_size=BATCH_SIZE, shuffle=False)\n",
    "\n",
    "print(f'Training samples: {len(train_dataset)}, Test samples: {len(test_dataset)}, Validation samples: {len(val_dataset)}')\n"
   ]
  },
  {
   "cell_type": "code",
   "execution_count": 6,
   "id": "e313d2ef-f9bc-4ab5-9743-4413c4c646c4",
   "metadata": {},
   "outputs": [
    {
     "name": "stdout",
     "output_type": "stream",
     "text": [
      "Training samples: 1309, Test samples: 328, Validation samples: 1637\n"
     ]
    }
   ],
   "source": [
    "print(f'Training samples: {len(train_loader)}, Test samples: {len(test_loader)}, Validation samples: {len(val_loader)}')"
   ]
  },
  {
   "cell_type": "code",
   "execution_count": 7,
   "id": "65beeedd-4c43-46d1-a4ce-e2029817da3f",
   "metadata": {},
   "outputs": [],
   "source": [
    "## CNN architecture"
   ]
  },
  {
   "cell_type": "code",
   "execution_count": 8,
   "id": "8ba519b8-6258-4585-8f2d-f51f29168d92",
   "metadata": {},
   "outputs": [],
   "source": [
    "class MBConvBlock(nn.Module):\n",
    "    def __init__(self, in_channels, out_channels, expansion=6, stride=1):\n",
    "        super(MBConvBlock, self).__init__()\n",
    "        mid_channels = in_channels * expansion\n",
    "        self.expand = nn.Conv2d(in_channels, mid_channels, kernel_size=1, bias=False) if expansion != 1 else None\n",
    "        self.dwconv = nn.Conv2d(mid_channels, mid_channels, kernel_size=3, stride=stride, padding=1, groups=mid_channels, bias=False)\n",
    "        self.project = nn.Conv2d(mid_channels, out_channels, kernel_size=1, bias=False)\n",
    "        self.bn1 = nn.BatchNorm2d(mid_channels)\n",
    "        self.bn2 = nn.BatchNorm2d(out_channels)\n",
    "        self.relu = nn.ReLU(inplace=True)\n",
    "\n",
    "        # Skip connection\n",
    "        self.use_residual = stride == 1 and in_channels == out_channels\n",
    "\n",
    "    def forward(self, x):\n",
    "        identity = x\n",
    "        if self.expand:\n",
    "            x = self.relu(self.bn1(self.expand(x)))\n",
    "        x = self.relu(self.bn1(self.dwconv(x)))\n",
    "        x = self.bn2(self.project(x))\n",
    "        if self.use_residual:\n",
    "            x += identity\n",
    "        return x"
   ]
  },
  {
   "cell_type": "code",
   "execution_count": 9,
   "id": "181f633f-f3ef-4140-bdde-8d057b133fcf",
   "metadata": {},
   "outputs": [],
   "source": [
    "class EfficientNetBlock(nn.Module):\n",
    "    def __init__(self, num_classes=10):\n",
    "        super(EfficientNetBlock, self).__init__()\n",
    "        self.stem = nn.Sequential(\n",
    "            nn.Conv2d(3, 32, kernel_size=3, stride=2, padding=1, bias=False),\n",
    "            nn.BatchNorm2d(32),\n",
    "            nn.SiLU()\n",
    "        )\n",
    "        \n",
    "        self.blocks = nn.Sequential(\n",
    "            MBConvBlock(32, 16, expansion=1, stride=1),\n",
    "            MBConvBlock(16, 24, expansion=6, stride=2),\n",
    "            MBConvBlock(24, 40, expansion=6, stride=2)\n",
    "        )\n",
    "        \n",
    "        self.head = nn.Sequential(\n",
    "            nn.Conv2d(40, 1280, kernel_size=1, bias=False),\n",
    "            nn.BatchNorm2d(1280),\n",
    "            nn.SiLU(),\n",
    "            nn.AdaptiveAvgPool2d(1),\n",
    "            nn.Flatten(),\n",
    "            nn.Linear(1280, num_classes)\n",
    "        )\n",
    "\n",
    "    def forward(self, x):\n",
    "        x = self.stem(x)\n",
    "        x = self.blocks(x)\n",
    "        x = self.head(x)\n",
    "        return x"
   ]
  },
  {
   "cell_type": "markdown",
   "id": "3f13b3a7-40d7-4803-8e15-da511a6d789e",
   "metadata": {},
   "source": [
    "## Training model"
   ]
  },
  {
   "cell_type": "code",
   "execution_count": 10,
   "id": "f994be8d-b75b-4045-9fdf-8717eeb2ae2e",
   "metadata": {},
   "outputs": [],
   "source": [
    "def train_model(model, train_loader, val_loader, criterion, optimizer, num_epochs):\n",
    "    train_losses = []\n",
    "    val_losses = []\n",
    "    train_accuracies = []\n",
    "    val_accuracies = []\n",
    "\n",
    "    # Metrics from torchmetrics\n",
    "    confusion_matrix = MulticlassConfusionMatrix(num_classes=10)\n",
    "    precision = MulticlassPrecision(num_classes=10, average='macro')\n",
    "    recall = MulticlassRecall(num_classes=10, average='macro')\n",
    "    f1_score = MulticlassF1Score(num_classes=10, average='macro')\n",
    "\n",
    "    for epoch in range(num_epochs):\n",
    "        # Training phase\n",
    "        model.train()\n",
    "        train_loss = 0.0\n",
    "        correct_train = 0\n",
    "        total_train = 0\n",
    "\n",
    "        for inputs, labels in train_loader:\n",
    "            inputs, labels = inputs.to(device), labels.to(device)\n",
    "\n",
    "            optimizer.zero_grad()\n",
    "            outputs = model(inputs)\n",
    "            loss = criterion(outputs, labels)\n",
    "            loss.backward()\n",
    "            optimizer.step()\n",
    "\n",
    "            train_loss += loss.item()\n",
    "            _, preds = torch.max(outputs, 1)\n",
    "            total_train += labels.size(0)\n",
    "            correct_train += (preds == labels).sum().item()\n",
    "\n",
    "        train_losses.append(train_loss / len(train_loader))\n",
    "        train_accuracies.append(100 * correct_train / total_train)\n",
    "\n",
    "        # Validation phase\n",
    "        model.eval()\n",
    "        val_loss = 0.0\n",
    "        correct_val = 0\n",
    "        total_val = 0\n",
    "\n",
    "        all_preds = []\n",
    "        all_labels = []\n",
    "\n",
    "        with torch.no_grad():\n",
    "            for inputs, labels in val_loader:\n",
    "                inputs, labels = inputs.to(device), labels.to(device)\n",
    "                outputs = model(inputs)\n",
    "                loss = criterion(outputs, labels)\n",
    "                val_loss += loss.item()\n",
    "\n",
    "                _, preds = torch.max(outputs, 1)\n",
    "                total_val += labels.size(0)\n",
    "                correct_val += (preds == labels).sum().item()\n",
    "\n",
    "                # For metrics\n",
    "                all_preds.append(preds.cpu())\n",
    "                all_labels.append(labels.cpu())\n",
    "\n",
    "        val_losses.append(val_loss / len(val_loader))\n",
    "        val_accuracies.append(100 * correct_val / total_val)\n",
    "\n",
    "        # Combine predictions and labels\n",
    "        all_preds = torch.cat(all_preds)\n",
    "        all_labels = torch.cat(all_labels)\n",
    "\n",
    "        # Calculate torchmetrics\n",
    "        precision_value = precision(all_preds, all_labels)\n",
    "        recall_value = recall(all_preds, all_labels)\n",
    "        f1_value = f1_score(all_preds, all_labels)\n",
    "        conf_matrix = confusion_matrix(all_preds, all_labels)\n",
    "\n",
    "        # Print epoch statistics\n",
    "        print(f\"Epoch {epoch + 1}/{num_epochs}\")\n",
    "        print(f\"Train Loss: {train_losses[-1]:.4f} | Train Acc: {train_accuracies[-1]:.2f}%\")\n",
    "        print(f\"Val Loss: {val_losses[-1]:.4f} | Val Acc: {val_accuracies[-1]:.2f}%\")\n",
    "        print(f\"Precision: {precision_value:.4f} | Recall: {recall_value:.4f} | F1 Score: {f1_value:.4f}\\n\")\n",
    "\n",
    "    return train_losses, val_losses, train_accuracies, val_accuracies, conf_matrix"
   ]
  },
  {
   "cell_type": "code",
   "execution_count": 11,
   "id": "ad5e6ffa-d6d4-46a7-9fa2-9e371d690dda",
   "metadata": {},
   "outputs": [],
   "source": [
    "device = torch.device(\"cuda\" if torch.cuda.is_available() else \"cpu\")\n",
    "num_classes = 10\n",
    "\n",
    "# Instantiate the model\n",
    "model = EfficientNetBlock(num_classes=num_classes).to(device)\n",
    "\n",
    "# Loss function and optimizer\n",
    "criterion = nn.CrossEntropyLoss()\n",
    "optimizer = optim.Adam(model.parameters(), lr=0.001, weight_decay=1e-4)\n"
   ]
  },
  {
   "cell_type": "code",
   "execution_count": 12,
   "id": "81e90650-75c3-4fb4-8d13-6bf6c1499acf",
   "metadata": {},
   "outputs": [
    {
     "data": {
      "text/plain": [
       "==========================================================================================\n",
       "Layer (type:depth-idx)                   Output Shape              Param #\n",
       "==========================================================================================\n",
       "EfficientNetBlock                        [8, 10]                   --\n",
       "├─Sequential: 1-1                        [8, 32, 112, 112]         --\n",
       "│    └─Conv2d: 2-1                       [8, 32, 112, 112]         864\n",
       "│    └─BatchNorm2d: 2-2                  [8, 32, 112, 112]         64\n",
       "│    └─SiLU: 2-3                         [8, 32, 112, 112]         --\n",
       "├─Sequential: 1-2                        [8, 40, 28, 28]           --\n",
       "│    └─MBConvBlock: 2-4                  [8, 16, 112, 112]         --\n",
       "│    │    └─Conv2d: 3-1                  [8, 32, 112, 112]         288\n",
       "│    │    └─BatchNorm2d: 3-2             [8, 32, 112, 112]         64\n",
       "│    │    └─ReLU: 3-3                    [8, 32, 112, 112]         --\n",
       "│    │    └─Conv2d: 3-4                  [8, 16, 112, 112]         512\n",
       "│    │    └─BatchNorm2d: 3-5             [8, 16, 112, 112]         32\n",
       "│    └─MBConvBlock: 2-5                  [8, 24, 56, 56]           --\n",
       "│    │    └─Conv2d: 3-6                  [8, 96, 112, 112]         1,536\n",
       "│    │    └─BatchNorm2d: 3-7             [8, 96, 112, 112]         192\n",
       "│    │    └─ReLU: 3-8                    [8, 96, 112, 112]         --\n",
       "│    │    └─Conv2d: 3-9                  [8, 96, 56, 56]           864\n",
       "│    │    └─BatchNorm2d: 3-10            [8, 96, 56, 56]           (recursive)\n",
       "│    │    └─ReLU: 3-11                   [8, 96, 56, 56]           --\n",
       "│    │    └─Conv2d: 3-12                 [8, 24, 56, 56]           2,304\n",
       "│    │    └─BatchNorm2d: 3-13            [8, 24, 56, 56]           48\n",
       "│    └─MBConvBlock: 2-6                  [8, 40, 28, 28]           --\n",
       "│    │    └─Conv2d: 3-14                 [8, 144, 56, 56]          3,456\n",
       "│    │    └─BatchNorm2d: 3-15            [8, 144, 56, 56]          288\n",
       "│    │    └─ReLU: 3-16                   [8, 144, 56, 56]          --\n",
       "│    │    └─Conv2d: 3-17                 [8, 144, 28, 28]          1,296\n",
       "│    │    └─BatchNorm2d: 3-18            [8, 144, 28, 28]          (recursive)\n",
       "│    │    └─ReLU: 3-19                   [8, 144, 28, 28]          --\n",
       "│    │    └─Conv2d: 3-20                 [8, 40, 28, 28]           5,760\n",
       "│    │    └─BatchNorm2d: 3-21            [8, 40, 28, 28]           80\n",
       "├─Sequential: 1-3                        [8, 10]                   --\n",
       "│    └─Conv2d: 2-7                       [8, 1280, 28, 28]         51,200\n",
       "│    └─BatchNorm2d: 2-8                  [8, 1280, 28, 28]         2,560\n",
       "│    └─SiLU: 2-9                         [8, 1280, 28, 28]         --\n",
       "│    └─AdaptiveAvgPool2d: 2-10           [8, 1280, 1, 1]           --\n",
       "│    └─Flatten: 2-11                     [8, 1280]                 --\n",
       "│    └─Linear: 2-12                      [8, 10]                   12,810\n",
       "==========================================================================================\n",
       "Total params: 84,218\n",
       "Trainable params: 84,218\n",
       "Non-trainable params: 0\n",
       "Total mult-adds (Units.MEGABYTES): 852.82\n",
       "==========================================================================================\n",
       "Input size (MB): 4.82\n",
       "Forward/backward pass size (MB): 535.48\n",
       "Params size (MB): 0.34\n",
       "Estimated Total Size (MB): 540.63\n",
       "=========================================================================================="
      ]
     },
     "execution_count": 12,
     "metadata": {},
     "output_type": "execute_result"
    }
   ],
   "source": [
    "summary(model, input_size=(BATCH_SIZE, 3, 224, 224))"
   ]
  },
  {
   "cell_type": "code",
   "execution_count": 13,
   "id": "6d7487da-a8ab-42b7-8c1d-a626543f166a",
   "metadata": {},
   "outputs": [
    {
     "name": "stdout",
     "output_type": "stream",
     "text": [
      "Using device: cuda\n",
      "Epoch 1/10\n",
      "Train Loss: 2.1115 | Train Acc: 23.80%\n",
      "Val Loss: 2.2467 | Val Acc: 23.56%\n",
      "Precision: 0.1001 | Recall: 0.1440 | F1 Score: 0.0968\n",
      "\n",
      "Epoch 2/10\n",
      "Train Loss: 1.9758 | Train Acc: 29.21%\n",
      "Val Loss: 2.4642 | Val Acc: 26.92%\n",
      "Precision: 0.1498 | Recall: 0.1535 | F1 Score: 0.0978\n",
      "\n",
      "Epoch 3/10\n",
      "Train Loss: 1.8988 | Train Acc: 32.65%\n",
      "Val Loss: 2.5442 | Val Acc: 13.55%\n",
      "Precision: 0.2641 | Recall: 0.1497 | F1 Score: 0.0989\n",
      "\n",
      "Epoch 4/10\n",
      "Train Loss: 1.8431 | Train Acc: 34.85%\n",
      "Val Loss: 2.8664 | Val Acc: 19.05%\n",
      "Precision: 0.0964 | Recall: 0.1225 | F1 Score: 0.0694\n",
      "\n",
      "Epoch 5/10\n",
      "Train Loss: 1.7914 | Train Acc: 36.77%\n",
      "Val Loss: 3.0013 | Val Acc: 12.83%\n",
      "Precision: 0.1942 | Recall: 0.1519 | F1 Score: 0.0899\n",
      "\n",
      "Epoch 6/10\n",
      "Train Loss: 1.7546 | Train Acc: 38.23%\n",
      "Val Loss: 3.0549 | Val Acc: 11.99%\n",
      "Precision: 0.2142 | Recall: 0.1503 | F1 Score: 0.0865\n",
      "\n",
      "Epoch 7/10\n",
      "Train Loss: 1.7324 | Train Acc: 39.07%\n",
      "Val Loss: 3.4706 | Val Acc: 12.56%\n",
      "Precision: 0.1946 | Recall: 0.1607 | F1 Score: 0.0874\n",
      "\n",
      "Epoch 8/10\n",
      "Train Loss: 1.6916 | Train Acc: 39.94%\n",
      "Val Loss: 4.0475 | Val Acc: 10.00%\n",
      "Precision: 0.1499 | Recall: 0.1398 | F1 Score: 0.0551\n",
      "\n",
      "Epoch 9/10\n",
      "Train Loss: 1.6740 | Train Acc: 41.18%\n",
      "Val Loss: 3.9853 | Val Acc: 7.52%\n",
      "Precision: 0.0573 | Recall: 0.1073 | F1 Score: 0.0268\n",
      "\n",
      "Epoch 10/10\n",
      "Train Loss: 1.6527 | Train Acc: 42.23%\n",
      "Val Loss: 3.8363 | Val Acc: 11.30%\n",
      "Precision: 0.1618 | Recall: 0.1499 | F1 Score: 0.0663\n",
      "\n",
      "######## Training Finished in 1168.710701227188 seconds ###########\n"
     ]
    }
   ],
   "source": [
    "t1 = time.time()\n",
    "print(f\"Using device: {device}\")\n",
    "\n",
    "train_losses, val_losses, train_accuracies, val_accuracies, conf_matrix = train_model(\n",
    "    model, train_loader, test_loader, criterion, optimizer, num_epochs=10)\n",
    "\n",
    "print(\"######## Training Finished in {} seconds ###########\".format(time.time()-t1))"
   ]
  },
  {
   "cell_type": "markdown",
   "id": "db47d303-e902-46ac-83a1-52b1e1288a51",
   "metadata": {},
   "source": [
    "## Evaluating"
   ]
  },
  {
   "cell_type": "code",
   "execution_count": 14,
   "id": "7e0d11dc-3972-4586-bfa6-030d389221fc",
   "metadata": {},
   "outputs": [
    {
     "name": "stdout",
     "output_type": "stream",
     "text": [
      "Test Accuracy of the model on the 2619 test images: 11.11%\n"
     ]
    }
   ],
   "source": [
    "model.eval() \n",
    "\n",
    "with torch.no_grad(): \n",
    "    correct = 0\n",
    "    total = 0\n",
    "    for data in test_loader:\n",
    "        images, labels = data[0].to(device), data[1].to(device)\n",
    "        outputs = model(images)\n",
    "        _, predicted = torch.max(outputs.data, 1)\n",
    "        total += labels.size(0)\n",
    "        correct += (predicted == labels).sum().item()\n",
    "    print(f'Test Accuracy of the model on the {total} test images: {(correct / total) * 100:.2f}%')"
   ]
  },
  {
   "cell_type": "code",
   "execution_count": 15,
   "id": "87807ff7-9440-4829-92b7-aee0c240f0e2",
   "metadata": {},
   "outputs": [
    {
     "data": {
      "image/png": "[encoded data removed]",
      "text/plain": [
       "<Figure size 1200x500 with 2 Axes>"
      ]
     },
     "metadata": {},
     "output_type": "display_data"
    }
   ],
   "source": [
    "def plot_training(train_losses, val_losses, train_accuracies, val_accuracies):\n",
    "    epochs = range(1, len(train_losses) + 1)\n",
    "\n",
    "    plt.figure(figsize=(12, 5))\n",
    "    \n",
    "    # Plot loss\n",
    "    plt.subplot(1, 2, 1)\n",
    "    plt.plot(epochs, train_losses, label='Train Loss')\n",
    "    plt.plot(epochs, val_losses, label='Val Loss')\n",
    "    plt.xlabel('Epochs')\n",
    "    plt.ylabel('Loss')\n",
    "    plt.title('Training and Validation Loss')\n",
    "    plt.legend()\n",
    "\n",
    "    # Plot accuracy\n",
    "    plt.subplot(1, 2, 2)\n",
    "    plt.plot(epochs, train_accuracies, label='Train Accuracy')\n",
    "    plt.plot(epochs, val_accuracies, label='Val Accuracy')\n",
    "    plt.xlabel('Epochs')\n",
    "    plt.ylabel('Accuracy (%)')\n",
    "    plt.title('Training and Validation Accuracy')\n",
    "    plt.legend()\n",
    "\n",
    "    plt.show()\n",
    "\n",
    "plot_training(train_losses, val_losses, train_accuracies, val_accuracies)"
   ]
  },
  {
   "cell_type": "code",
   "execution_count": 16,
   "id": "83caa44d-6d3f-46d4-a447-5b747771970b",
   "metadata": {},
   "outputs": [],
   "source": [
    "### Confusion Matrix"
   ]
  },
  {
   "cell_type": "code",
   "execution_count": 17,
   "id": "a9cb0441-3b2f-4663-ad76-3a779f7d9249",
   "metadata": {},
   "outputs": [
    {
     "name": "stdout",
     "output_type": "stream",
     "text": [
      "Confusion Matrix:\n",
      "tensor([[ 12,  54,   0,   2,   0,   0,   0,   2,   0, 138],\n",
      "        [  0, 126,   0,   0,   0,   1,   0,   0,   0,  55],\n",
      "        [  2,  88,   0,   0,   0,   9,   0,   0,   0,  90],\n",
      "        [  0, 286,   0,   1,   0,  13,   0,   0,   0, 167],\n",
      "        [  3,  78,   0,   1,   0,  11,   0,   0,   0,  47],\n",
      "        [  2, 135,   0,   0,   0,  39,   0,   2,   0, 134],\n",
      "        [  0, 125,   0,   3,   0,  10,   0,   0,   0, 116],\n",
      "        [  0,  69,   0,   0,   0,  10,   0,   3,   0,  99],\n",
      "        [  1, 253,   0,   2,   0,  14,   0,   0,   0, 226],\n",
      "        [  0,  65,   0,   0,   0,   9,   0,   1,   0, 115]])\n"
     ]
    }
   ],
   "source": [
    "print(\"Confusion Matrix:\")\n",
    "print(conf_matrix)"
   ]
  },
  {
   "cell_type": "code",
   "execution_count": 18,
   "id": "e954e35a-4447-40b6-8df2-474fef596fa0",
   "metadata": {},
   "outputs": [
    {
     "data": {
      "text/plain": [
       "<sklearn.metrics._plot.confusion_matrix.ConfusionMatrixDisplay at 0x7f85b7c88c20>"
      ]
     },
     "execution_count": 18,
     "metadata": {},
     "output_type": "execute_result"
    },
    {
     "data": {
      "image/png": "[encoded data removed]",
      "text/plain": [
       "<Figure size 640x480 with 2 Axes>"
      ]
     },
     "metadata": {},
     "output_type": "display_data"
    }
   ],
   "source": [
    "cm = conf_matrix.cpu().numpy()\n",
    "disp = ConfusionMatrixDisplay(cm, display_labels=classes,)\n",
    "disp.plot()"
   ]
  },
  {
   "cell_type": "markdown",
   "id": "7015236e-28e4-4168-a7dc-41c49462801c",
   "metadata": {},
   "source": [
    "### Metrics"
   ]
  },
  {
   "cell_type": "code",
   "execution_count": 19,
   "id": "f6f5f40c-3272-416b-a701-9b077fab0c98",
   "metadata": {},
   "outputs": [
    {
     "name": "stdout",
     "output_type": "stream",
     "text": [
      "Class 0-butterfly: Precision: 0.41, Recall: 0.04, F1-Score: 0.08\n",
      "Class 1-cat: Precision: 0.09, Recall: 0.57, F1-Score: 0.16\n",
      "Class 2-cow: Precision: 0.00, Recall: 0.00, F1-Score: 0.00\n",
      "Class 3-dog: Precision: 0.14, Recall: 0.01, F1-Score: 0.02\n",
      "Class 4-elephant: Precision: 0.00, Recall: 0.00, F1-Score: 0.00\n",
      "Class 5-hen: Precision: 0.29, Recall: 0.34, F1-Score: 0.31\n",
      "Class 6-horse: Precision: 0.00, Recall: 0.00, F1-Score: 0.00\n",
      "Class 7-sheep: Precision: 0.17, Recall: 0.01, F1-Score: 0.02\n",
      "Class 8-spider: Precision: 0.00, Recall: 0.00, F1-Score: 0.00\n",
      "Class 9-squirrel: Precision: 0.11, Recall: 0.65, F1-Score: 0.18\n"
     ]
    }
   ],
   "source": [
    "precision = MulticlassPrecision(num_classes=num_classes, average=None)\n",
    "recall = MulticlassRecall(num_classes=num_classes, average=None)\n",
    "f1_score = MulticlassF1Score(num_classes=num_classes, average=None)\n",
    "\n",
    "all_preds = []\n",
    "all_labels = []\n",
    "\n",
    "model.eval()\n",
    "with torch.no_grad():\n",
    "    for inputs, labels in val_loader:\n",
    "        inputs, labels = inputs.to(device), labels.to(device)\n",
    "        outputs = model(inputs)\n",
    "        _, preds = torch.max(outputs, 1)\n",
    "        all_preds.append(preds.cpu())\n",
    "        all_labels.append(labels.cpu())\n",
    "\n",
    "all_preds = torch.cat(all_preds)\n",
    "all_labels = torch.cat(all_labels)\n",
    "\n",
    "\n",
    "per_class_precision = precision(all_preds, all_labels)\n",
    "per_class_recall = recall(all_preds, all_labels)\n",
    "per_class_f1 = f1_score(all_preds, all_labels)\n",
    "\n",
    "\n",
    "for i, name in enumerate(classes):\n",
    "    print(f\"Class {i}-{name}: Precision: {per_class_precision[i]:.2f}, Recall: {per_class_recall[i]:.2f}, F1-Score: {per_class_f1[i]:.2f}\")"
   ]
  },
  {
   "cell_type": "code",
   "execution_count": null,
   "id": "6872a376-7a32-43e3-804f-e1378361cd07",
   "metadata": {},
   "outputs": [],
   "source": []
  }
 ],
 "metadata": {
  "kernelspec": {
   "display_name": "Python 3 (ipykernel)",
   "language": "python",
   "name": "python3"
  },
  "language_info": {
   "codemirror_mode": {
    "name": "ipython",
    "version": 3
   },
   "file_extension": ".py",
   "mimetype": "text/x-python",
   "name": "python",
   "nbconvert_exporter": "python",
   "pygments_lexer": "ipython3",
   "version": "3.13.1"
  }
 },
 "nbformat": 4,
 "nbformat_minor": 5
}
