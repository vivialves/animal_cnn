{
 "cells": [
  {
   "cell_type": "markdown",
   "id": "464e98af-ca23-419a-bb70-4763ea81395b",
   "metadata": {},
   "source": [
    "# CNN - Alexnet"
   ]
  },
  {
   "cell_type": "code",
   "execution_count": 1,
   "id": "f375dc82-1d19-4ad8-bf22-a81f5fdb6c71",
   "metadata": {},
   "outputs": [],
   "source": [
    "import os\n",
    "import pandas as pd\n",
    "import numpy as np\n",
    "import time\n",
    "\n",
    "import torch\n",
    "import torchvision\n",
    "import torch.nn as nn\n",
    "import torch.optim as optim\n",
    "\n",
    "\n",
    "import matplotlib.pyplot as plt\n",
    "\n",
    "from torchvision import models\n",
    "from torchinfo import summary\n",
    "from torchvision import datasets, transforms\n",
    "from torch.utils.data import random_split, DataLoader, Dataset\n",
    "from torchmetrics.classification import MulticlassConfusionMatrix, MulticlassPrecision, MulticlassRecall, MulticlassF1Score\n",
    "from sklearn.metrics import confusion_matrix, ConfusionMatrixDisplay, classification_report "
   ]
  },
  {
   "cell_type": "markdown",
   "id": "63b4a53f-a5f8-466f-83f4-20cbb08edab1",
   "metadata": {},
   "source": [
    "## Loading Dataset"
   ]
  },
  {
   "cell_type": "code",
   "execution_count": 2,
   "id": "8fc6891b-1c5e-47e6-847b-5b5ee6b8f4b9",
   "metadata": {},
   "outputs": [
    {
     "data": {
      "text/plain": [
       "'/home/viviane/projects/data/animal_10/raw-img_training'"
      ]
     },
     "execution_count": 2,
     "metadata": {},
     "output_type": "execute_result"
    }
   ],
   "source": [
    "path = os.path.realpath('data/animal_10')\n",
    "list_path = path.split('/')\n",
    "list_path.remove('animal_cnn')\n",
    "list_path.remove('animal-project')\n",
    "path_training = os.path.join('/'.join(list_path), 'raw-img_training')\n",
    "path_training"
   ]
  },
  {
   "cell_type": "code",
   "execution_count": 3,
   "id": "cd8d417d-6b1d-4a83-a2ed-61c0f5c5b4e5",
   "metadata": {},
   "outputs": [
    {
     "name": "stdout",
     "output_type": "stream",
     "text": [
      "['butterfly', 'cat', 'cow', 'dog', 'elephant', 'hen', 'horse', 'sheep', 'spider', 'squirrel']\n"
     ]
    }
   ],
   "source": [
    "dataset = datasets.ImageFolder(\n",
    "    root=path_training, \n",
    "    transform=transforms.ToTensor()\n",
    ")\n",
    "classes = dataset.classes\n",
    "print(classes)"
   ]
  },
  {
   "cell_type": "code",
   "execution_count": 4,
   "id": "312e97ac-2b50-4617-8e58-68020d8ed3e3",
   "metadata": {},
   "outputs": [
    {
     "data": {
      "text/plain": [
       "'/home/viviane/projects/data/animal_10/raw_img_test'"
      ]
     },
     "execution_count": 4,
     "metadata": {},
     "output_type": "execute_result"
    }
   ],
   "source": [
    "path = os.path.realpath('data/animal_10')\n",
    "list_path = path.split('/')\n",
    "list_path.remove('animal_cnn')\n",
    "list_path.remove('animal-project')\n",
    "path_val = os.path.join('/'.join(list_path), 'raw_img_test')\n",
    "path_val"
   ]
  },
  {
   "cell_type": "code",
   "execution_count": 5,
   "id": "e659110d-932a-4a08-afad-d7391e1326fc",
   "metadata": {},
   "outputs": [],
   "source": [
    "train_dir = path_training\n",
    "val_dir = path_val"
   ]
  },
  {
   "cell_type": "code",
   "execution_count": 6,
   "id": "d0e23ccd-7a62-411c-b8bf-953cdf62b971",
   "metadata": {},
   "outputs": [],
   "source": [
    "IMAGE_SIZE = 227\n",
    "BATCH_SIZE = 16"
   ]
  },
  {
   "cell_type": "markdown",
   "id": "a07d143c-88e8-4a5f-954e-3f922719af64",
   "metadata": {},
   "source": [
    "## Preprocessing"
   ]
  },
  {
   "cell_type": "code",
   "execution_count": 7,
   "id": "2c4577bc-2d80-4902-bed3-0f3c845d898e",
   "metadata": {},
   "outputs": [
    {
     "name": "stdout",
     "output_type": "stream",
     "text": [
      "Training samples: 10472, Test samples: 2619, Validation samples: 13091\n"
     ]
    }
   ],
   "source": [
    "# Define data augmentation for the training dataset\n",
    "train_transforms = transforms.Compose([\n",
    "    transforms.RandomResizedCrop(IMAGE_SIZE),   # Random crop and resize\n",
    "    transforms.RandomHorizontalFlip(p=0.5),     # Random horizontal flip\n",
    "    transforms.RandomRotation(20),              # Random rotation within ±20 degrees\n",
    "    transforms.ColorJitter(brightness=0.2, contrast=0.2, saturation=0.2, hue=0.1),\n",
    "    transforms.RandomAffine(degrees=0, shear=10, scale=(0.8, 1.2)),  # Shearing\n",
    "    transforms.ToTensor(),                      # Convert to tensor\n",
    "    transforms.Normalize(mean=[0.5, 0.5, 0.5], std=[0.5, 0.5, 0.5]) # Normalize\n",
    "])\n",
    "\n",
    "# Define validation dataset - no augmentation, only resizing and normalization\n",
    "val_transforms = transforms.Compose([\n",
    "    transforms.Resize((IMAGE_SIZE, IMAGE_SIZE)),\n",
    "    transforms.ToTensor(),\n",
    "    transforms.Normalize(mean=[0.5, 0.5, 0.5], std=[0.5, 0.5, 0.5])\n",
    "])\n",
    "\n",
    "\n",
    "# split train_dataset and load\n",
    "train_dataset = torchvision.datasets.ImageFolder(root=train_dir, transform=train_transforms)\n",
    "val_dataset = torchvision.datasets.ImageFolder(root=val_dir, transform=val_transforms)\n",
    "\n",
    "train_size = int(0.8 * len(train_dataset))  # 80% for training\n",
    "test_size = len(train_dataset) - train_size  # Remaining for testing\n",
    "\n",
    "train_dataset, test_dataset = random_split(train_dataset, [train_size, test_size])\n",
    "\n",
    "# Define loaders\n",
    "train_loader = DataLoader(train_dataset, batch_size=BATCH_SIZE, shuffle=True)\n",
    "test_loader = DataLoader(test_dataset, batch_size=BATCH_SIZE, shuffle=True)\n",
    "\n",
    "val_loader = DataLoader(val_dataset, batch_size=BATCH_SIZE, shuffle=False)\n",
    "\n",
    "print(f'Training samples: {len(train_dataset)}, Test samples: {len(test_dataset)}, Validation samples: {len(val_dataset)}')"
   ]
  },
  {
   "cell_type": "code",
   "execution_count": 8,
   "id": "06e3ce4c-0685-4812-ba65-61cee1e2bc64",
   "metadata": {},
   "outputs": [
    {
     "name": "stdout",
     "output_type": "stream",
     "text": [
      "Training samples: 655, Test samples: 164, Validation samples: 819\n"
     ]
    }
   ],
   "source": [
    "print(f'Training samples: {len(train_loader)}, Test samples: {len(test_loader)}, Validation samples: {len(val_loader)}')"
   ]
  },
  {
   "cell_type": "markdown",
   "id": "af68df9b-d9a0-44f1-b2bc-85bddec9f422",
   "metadata": {},
   "source": [
    "## Architecture"
   ]
  },
  {
   "cell_type": "code",
   "execution_count": 9,
   "id": "ecc27f8b-d176-4fa0-ab31-ab8743f9fb2c",
   "metadata": {},
   "outputs": [
    {
     "name": "stdout",
     "output_type": "stream",
     "text": [
      "AlexNet(\n",
      "  (features): Sequential(\n",
      "    (0): Conv2d(3, 64, kernel_size=(11, 11), stride=(4, 4), padding=(2, 2))\n",
      "    (1): ReLU(inplace=True)\n",
      "    (2): MaxPool2d(kernel_size=3, stride=2, padding=0, dilation=1, ceil_mode=False)\n",
      "    (3): Conv2d(64, 192, kernel_size=(5, 5), stride=(1, 1), padding=(2, 2))\n",
      "    (4): ReLU(inplace=True)\n",
      "    (5): MaxPool2d(kernel_size=3, stride=2, padding=0, dilation=1, ceil_mode=False)\n",
      "    (6): Conv2d(192, 384, kernel_size=(3, 3), stride=(1, 1), padding=(1, 1))\n",
      "    (7): ReLU(inplace=True)\n",
      "    (8): Conv2d(384, 256, kernel_size=(3, 3), stride=(1, 1), padding=(1, 1))\n",
      "    (9): ReLU(inplace=True)\n",
      "    (10): Conv2d(256, 256, kernel_size=(3, 3), stride=(1, 1), padding=(1, 1))\n",
      "    (11): ReLU(inplace=True)\n",
      "    (12): MaxPool2d(kernel_size=3, stride=2, padding=0, dilation=1, ceil_mode=False)\n",
      "  )\n",
      "  (avgpool): AdaptiveAvgPool2d(output_size=(6, 6))\n",
      "  (classifier): Sequential(\n",
      "    (0): Dropout(p=0.5, inplace=False)\n",
      "    (1): Linear(in_features=9216, out_features=4096, bias=True)\n",
      "    (2): ReLU(inplace=True)\n",
      "    (3): Dropout(p=0.5, inplace=False)\n",
      "    (4): Linear(in_features=4096, out_features=4096, bias=True)\n",
      "    (5): ReLU(inplace=True)\n",
      "    (6): Linear(in_features=4096, out_features=10, bias=True)\n",
      "  )\n",
      ")\n"
     ]
    }
   ],
   "source": [
    "device = torch.device(\"cuda\" if torch.cuda.is_available() else \"cpu\")\n",
    "num_classes = 10\n",
    "\n",
    "model = models.alexnet(weights=None) \n",
    "model.classifier[6] = nn.Linear(4096, num_classes)\n",
    "model = model.to(device)\n",
    "\n",
    "print(model)\n",
    "\n",
    "criterion = nn.CrossEntropyLoss(label_smoothing=0.1)\n",
    "optimizer = optim.SGD(model.parameters(), lr=0.01, momentum=0.9)"
   ]
  },
  {
   "cell_type": "code",
   "execution_count": 10,
   "id": "2a61fc4c-3cfc-41be-9268-08c7648a0cee",
   "metadata": {},
   "outputs": [
    {
     "data": {
      "text/plain": [
       "==========================================================================================\n",
       "Layer (type:depth-idx)                   Output Shape              Param #\n",
       "==========================================================================================\n",
       "AlexNet                                  [16, 10]                  --\n",
       "├─Sequential: 1-1                        [16, 256, 6, 6]           --\n",
       "│    └─Conv2d: 2-1                       [16, 64, 55, 55]          23,296\n",
       "│    └─ReLU: 2-2                         [16, 64, 55, 55]          --\n",
       "│    └─MaxPool2d: 2-3                    [16, 64, 27, 27]          --\n",
       "│    └─Conv2d: 2-4                       [16, 192, 27, 27]         307,392\n",
       "│    └─ReLU: 2-5                         [16, 192, 27, 27]         --\n",
       "│    └─MaxPool2d: 2-6                    [16, 192, 13, 13]         --\n",
       "│    └─Conv2d: 2-7                       [16, 384, 13, 13]         663,936\n",
       "│    └─ReLU: 2-8                         [16, 384, 13, 13]         --\n",
       "│    └─Conv2d: 2-9                       [16, 256, 13, 13]         884,992\n",
       "│    └─ReLU: 2-10                        [16, 256, 13, 13]         --\n",
       "│    └─Conv2d: 2-11                      [16, 256, 13, 13]         590,080\n",
       "│    └─ReLU: 2-12                        [16, 256, 13, 13]         --\n",
       "│    └─MaxPool2d: 2-13                   [16, 256, 6, 6]           --\n",
       "├─AdaptiveAvgPool2d: 1-2                 [16, 256, 6, 6]           --\n",
       "├─Sequential: 1-3                        [16, 10]                  --\n",
       "│    └─Dropout: 2-14                     [16, 9216]                --\n",
       "│    └─Linear: 2-15                      [16, 4096]                37,752,832\n",
       "│    └─ReLU: 2-16                        [16, 4096]                --\n",
       "│    └─Dropout: 2-17                     [16, 4096]                --\n",
       "│    └─Linear: 2-18                      [16, 4096]                16,781,312\n",
       "│    └─ReLU: 2-19                        [16, 4096]                --\n",
       "│    └─Linear: 2-20                      [16, 10]                  40,970\n",
       "==========================================================================================\n",
       "Total params: 57,044,810\n",
       "Trainable params: 57,044,810\n",
       "Non-trainable params: 0\n",
       "Total mult-adds (Units.GIGABYTES): 11.37\n",
       "==========================================================================================\n",
       "Input size (MB): 9.63\n",
       "Forward/backward pass size (MB): 63.13\n",
       "Params size (MB): 228.18\n",
       "Estimated Total Size (MB): 300.94\n",
       "=========================================================================================="
      ]
     },
     "execution_count": 10,
     "metadata": {},
     "output_type": "execute_result"
    }
   ],
   "source": [
    "summary(model, input_size=(BATCH_SIZE, 3, 224, 224))"
   ]
  },
  {
   "cell_type": "code",
   "execution_count": 11,
   "id": "08c0ef45-e1e7-4554-ada5-4961894bbe6f",
   "metadata": {},
   "outputs": [],
   "source": [
    "## Training"
   ]
  },
  {
   "cell_type": "code",
   "execution_count": 12,
   "id": "f813825e-3260-4dd8-b8dd-7f37c45013e8",
   "metadata": {},
   "outputs": [],
   "source": [
    "def train_model(model, train_loader, val_loader, criterion, optimizer, num_epochs):\n",
    "    train_losses = []\n",
    "    val_losses = []\n",
    "    train_accuracies = []\n",
    "    val_accuracies = []\n",
    "\n",
    "    # Metrics\n",
    "    confusion_matrix = MulticlassConfusionMatrix(num_classes=10)\n",
    "    precision = MulticlassPrecision(num_classes=10, average='macro')\n",
    "    recall = MulticlassRecall(num_classes=10, average='macro')\n",
    "    f1_score = MulticlassF1Score(num_classes=10, average='macro')\n",
    "\n",
    "    for epoch in range(num_epochs):\n",
    "        # Training\n",
    "        model.train()\n",
    "        train_loss = 0.0\n",
    "        correct_train = 0\n",
    "        total_train = 0\n",
    "\n",
    "        for inputs, labels in train_loader:\n",
    "            inputs, labels = inputs.to(device), labels.to(device)\n",
    "\n",
    "            # Clear gradients\n",
    "            optimizer.zero_grad()\n",
    "\n",
    "            # feed foward\n",
    "            outputs = model(inputs)\n",
    "            \n",
    "            # Compute loss using cross entropy\n",
    "            loss = criterion(outputs, labels)\n",
    "\n",
    "            # backpropagation\n",
    "            loss.backward()\n",
    "\n",
    "            # Update weights\n",
    "            optimizer.step()\n",
    "            \n",
    "            # Update results\n",
    "            train_loss += loss.item()\n",
    "            _, preds = torch.max(outputs, 1)\n",
    "            total_train += labels.size(0)\n",
    "            correct_train += (preds == labels).sum().item()\n",
    "\n",
    "        train_losses.append(train_loss / len(train_loader))\n",
    "        train_accuracies.append(100 * correct_train / total_train)\n",
    "\n",
    "        # Evaluation part to print metrics for each epoch\n",
    "        model.eval()\n",
    "        val_loss = 0.0\n",
    "        correct_val = 0\n",
    "        total_val = 0\n",
    "\n",
    "        all_preds = []\n",
    "        all_labels = []\n",
    "\n",
    "        with torch.no_grad():\n",
    "            for inputs, labels in val_loader:\n",
    "                inputs, labels = inputs.to(device), labels.to(device)\n",
    "                outputs = model(inputs)\n",
    "                loss = criterion(outputs, labels)\n",
    "                val_loss += loss.item()\n",
    "\n",
    "                _, preds = torch.max(outputs, 1)\n",
    "                total_val += labels.size(0)\n",
    "                correct_val += (preds == labels).sum().item()\n",
    "\n",
    "                # For metrics\n",
    "                all_preds.append(preds.cpu())\n",
    "                all_labels.append(labels.cpu())\n",
    "\n",
    "        val_losses.append(val_loss / len(val_loader))\n",
    "        val_accuracies.append(100 * correct_val / total_val)\n",
    "\n",
    "        \n",
    "        all_preds = torch.cat(all_preds)\n",
    "        all_labels = torch.cat(all_labels)\n",
    "\n",
    "        \n",
    "        precision_value = precision(all_preds, all_labels)\n",
    "        recall_value = recall(all_preds, all_labels)\n",
    "        f1_value = f1_score(all_preds, all_labels)\n",
    "        conf_matrix = confusion_matrix(all_preds, all_labels)\n",
    "\n",
    "        \n",
    "        print(f\"Epoch {epoch + 1}/{num_epochs}\")\n",
    "        print(f\"Train Loss: {train_losses[-1]:.4f} | Train Acc: {train_accuracies[-1]:.2f}%\")\n",
    "        print(f\"Val Loss: {val_losses[-1]:.4f} | Val Acc: {val_accuracies[-1]:.2f}%\")\n",
    "        print(f\"Precision: {precision_value:.4f} | Recall: {recall_value:.4f} | F1 Score: {f1_value:.4f}\\n\")\n",
    "\n",
    "    return train_losses, val_losses, train_accuracies, val_accuracies, conf_matrix"
   ]
  },
  {
   "cell_type": "code",
   "execution_count": 13,
   "id": "27c22f6b-eeec-4ea8-b7bf-e888c3b3ea3f",
   "metadata": {
    "scrolled": true
   },
   "outputs": [
    {
     "name": "stdout",
     "output_type": "stream",
     "text": [
      "Using device: cuda\n",
      "Epoch 1/50\n",
      "Train Loss: 2.2204 | Train Acc: 19.62%\n",
      "Val Loss: 2.2324 | Val Acc: 20.24%\n",
      "Precision: 0.0441 | Recall: 0.1134 | F1 Score: 0.0588\n",
      "\n",
      "Epoch 2/50\n",
      "Train Loss: 2.1765 | Train Acc: 23.12%\n",
      "Val Loss: 2.1646 | Val Acc: 24.36%\n",
      "Precision: 0.0698 | Recall: 0.1426 | F1 Score: 0.0834\n",
      "\n",
      "Epoch 3/50\n",
      "Train Loss: 2.1266 | Train Acc: 27.06%\n",
      "Val Loss: 2.1369 | Val Acc: 26.54%\n",
      "Precision: 0.1296 | Recall: 0.1590 | F1 Score: 0.1036\n",
      "\n",
      "Epoch 4/50\n",
      "Train Loss: 2.0900 | Train Acc: 28.26%\n",
      "Val Loss: 2.0639 | Val Acc: 28.33%\n",
      "Precision: 0.1685 | Recall: 0.2006 | F1 Score: 0.1521\n",
      "\n",
      "Epoch 5/50\n",
      "Train Loss: 2.0580 | Train Acc: 29.99%\n",
      "Val Loss: 2.0870 | Val Acc: 27.61%\n",
      "Precision: 0.1714 | Recall: 0.1924 | F1 Score: 0.1473\n",
      "\n",
      "Epoch 6/50\n",
      "Train Loss: 2.0306 | Train Acc: 31.69%\n",
      "Val Loss: 2.0181 | Val Acc: 31.88%\n",
      "Precision: 0.1903 | Recall: 0.2399 | F1 Score: 0.1994\n",
      "\n",
      "Epoch 7/50\n",
      "Train Loss: 1.9931 | Train Acc: 33.31%\n",
      "Val Loss: 2.0049 | Val Acc: 32.61%\n",
      "Precision: 0.3606 | Recall: 0.2460 | F1 Score: 0.2197\n",
      "\n",
      "Epoch 8/50\n",
      "Train Loss: 1.9589 | Train Acc: 34.93%\n",
      "Val Loss: 1.9713 | Val Acc: 34.56%\n",
      "Precision: 0.2599 | Recall: 0.2560 | F1 Score: 0.2326\n",
      "\n",
      "Epoch 9/50\n",
      "Train Loss: 1.9461 | Train Acc: 35.53%\n",
      "Val Loss: 1.9649 | Val Acc: 35.05%\n",
      "Precision: 0.4362 | Recall: 0.2645 | F1 Score: 0.2398\n",
      "\n",
      "Epoch 10/50\n",
      "Train Loss: 1.9154 | Train Acc: 37.27%\n",
      "Val Loss: 1.8949 | Val Acc: 37.65%\n",
      "Precision: 0.3573 | Recall: 0.2958 | F1 Score: 0.2842\n",
      "\n",
      "Epoch 11/50\n",
      "Train Loss: 1.8955 | Train Acc: 38.45%\n",
      "Val Loss: 1.8953 | Val Acc: 38.18%\n",
      "Precision: 0.3517 | Recall: 0.3091 | F1 Score: 0.2975\n",
      "\n",
      "Epoch 12/50\n",
      "Train Loss: 1.8753 | Train Acc: 38.76%\n",
      "Val Loss: 1.8998 | Val Acc: 36.69%\n",
      "Precision: 0.3949 | Recall: 0.2877 | F1 Score: 0.2651\n",
      "\n",
      "Epoch 13/50\n",
      "Train Loss: 1.8536 | Train Acc: 39.87%\n",
      "Val Loss: 1.8134 | Val Acc: 42.15%\n",
      "Precision: 0.3898 | Recall: 0.3428 | F1 Score: 0.3400\n",
      "\n",
      "Epoch 14/50\n",
      "Train Loss: 1.8330 | Train Acc: 41.07%\n",
      "Val Loss: 1.8315 | Val Acc: 40.78%\n",
      "Precision: 0.3961 | Recall: 0.3422 | F1 Score: 0.3121\n",
      "\n",
      "Epoch 15/50\n",
      "Train Loss: 1.8060 | Train Acc: 41.95%\n",
      "Val Loss: 1.7809 | Val Acc: 43.57%\n",
      "Precision: 0.4683 | Recall: 0.3522 | F1 Score: 0.3480\n",
      "\n",
      "Epoch 16/50\n",
      "Train Loss: 1.7875 | Train Acc: 43.40%\n",
      "Val Loss: 1.8629 | Val Acc: 41.89%\n",
      "Precision: 0.4806 | Recall: 0.3342 | F1 Score: 0.3309\n",
      "\n",
      "Epoch 17/50\n",
      "Train Loss: 1.7769 | Train Acc: 43.53%\n",
      "Val Loss: 1.7807 | Val Acc: 43.49%\n",
      "Precision: 0.4292 | Recall: 0.3539 | F1 Score: 0.3588\n",
      "\n",
      "Epoch 18/50\n",
      "Train Loss: 1.7641 | Train Acc: 45.07%\n",
      "Val Loss: 1.7621 | Val Acc: 44.18%\n",
      "Precision: 0.4719 | Recall: 0.3645 | F1 Score: 0.3764\n",
      "\n",
      "Epoch 19/50\n",
      "Train Loss: 1.7363 | Train Acc: 45.75%\n",
      "Val Loss: 1.7934 | Val Acc: 43.99%\n",
      "Precision: 0.5022 | Recall: 0.3345 | F1 Score: 0.3359\n",
      "\n",
      "Epoch 20/50\n",
      "Train Loss: 1.7184 | Train Acc: 46.36%\n",
      "Val Loss: 1.6987 | Val Acc: 46.96%\n",
      "Precision: 0.4881 | Recall: 0.3978 | F1 Score: 0.3961\n",
      "\n",
      "Epoch 21/50\n",
      "Train Loss: 1.7198 | Train Acc: 46.16%\n",
      "Val Loss: 1.7357 | Val Acc: 45.74%\n",
      "Precision: 0.4953 | Recall: 0.3696 | F1 Score: 0.3802\n",
      "\n",
      "Epoch 22/50\n",
      "Train Loss: 1.6795 | Train Acc: 48.71%\n",
      "Val Loss: 1.6921 | Val Acc: 47.42%\n",
      "Precision: 0.5063 | Recall: 0.4034 | F1 Score: 0.3989\n",
      "\n",
      "Epoch 23/50\n",
      "Train Loss: 1.6883 | Train Acc: 48.63%\n",
      "Val Loss: 1.6740 | Val Acc: 48.34%\n",
      "Precision: 0.5150 | Recall: 0.4402 | F1 Score: 0.4346\n",
      "\n",
      "Epoch 24/50\n",
      "Train Loss: 1.6690 | Train Acc: 48.93%\n",
      "Val Loss: 1.7309 | Val Acc: 46.58%\n",
      "Precision: 0.5208 | Recall: 0.4101 | F1 Score: 0.4044\n",
      "\n",
      "Epoch 25/50\n",
      "Train Loss: 1.6531 | Train Acc: 49.77%\n",
      "Val Loss: 1.7170 | Val Acc: 46.16%\n",
      "Precision: 0.5289 | Recall: 0.4045 | F1 Score: 0.4012\n",
      "\n",
      "Epoch 26/50\n",
      "Train Loss: 1.6503 | Train Acc: 50.21%\n",
      "Val Loss: 1.6362 | Val Acc: 50.02%\n",
      "Precision: 0.5422 | Recall: 0.4444 | F1 Score: 0.4562\n",
      "\n",
      "Epoch 27/50\n",
      "Train Loss: 1.6390 | Train Acc: 50.95%\n",
      "Val Loss: 1.6379 | Val Acc: 49.75%\n",
      "Precision: 0.5637 | Recall: 0.4307 | F1 Score: 0.4286\n",
      "\n",
      "Epoch 28/50\n",
      "Train Loss: 1.6195 | Train Acc: 51.63%\n",
      "Val Loss: 1.6310 | Val Acc: 51.81%\n",
      "Precision: 0.5594 | Recall: 0.4477 | F1 Score: 0.4589\n",
      "\n",
      "Epoch 29/50\n",
      "Train Loss: 1.6031 | Train Acc: 52.08%\n",
      "Val Loss: 1.6145 | Val Acc: 51.70%\n",
      "Precision: 0.5290 | Recall: 0.4687 | F1 Score: 0.4792\n",
      "\n",
      "Epoch 30/50\n",
      "Train Loss: 1.6097 | Train Acc: 52.49%\n",
      "Val Loss: 1.6192 | Val Acc: 51.36%\n",
      "Precision: 0.5899 | Recall: 0.4411 | F1 Score: 0.4557\n",
      "\n",
      "Epoch 31/50\n",
      "Train Loss: 1.6103 | Train Acc: 52.63%\n",
      "Val Loss: 1.6228 | Val Acc: 52.23%\n",
      "Precision: 0.5583 | Recall: 0.4636 | F1 Score: 0.4797\n",
      "\n",
      "Epoch 32/50\n",
      "Train Loss: 1.6042 | Train Acc: 52.65%\n",
      "Val Loss: 1.5958 | Val Acc: 52.84%\n",
      "Precision: 0.5653 | Recall: 0.4629 | F1 Score: 0.4718\n",
      "\n",
      "Epoch 33/50\n",
      "Train Loss: 1.5748 | Train Acc: 54.25%\n",
      "Val Loss: 1.5924 | Val Acc: 52.73%\n",
      "Precision: 0.5335 | Recall: 0.4901 | F1 Score: 0.4865\n",
      "\n",
      "Epoch 34/50\n",
      "Train Loss: 1.5824 | Train Acc: 53.86%\n",
      "Val Loss: 1.5816 | Val Acc: 53.65%\n",
      "Precision: 0.5634 | Recall: 0.4785 | F1 Score: 0.4891\n",
      "\n",
      "Epoch 35/50\n",
      "Train Loss: 1.5632 | Train Acc: 54.61%\n",
      "Val Loss: 1.5484 | Val Acc: 54.72%\n",
      "Precision: 0.5520 | Recall: 0.5098 | F1 Score: 0.5202\n",
      "\n",
      "Epoch 36/50\n",
      "Train Loss: 1.5694 | Train Acc: 54.61%\n",
      "Val Loss: 1.5747 | Val Acc: 53.80%\n",
      "Precision: 0.5834 | Recall: 0.4854 | F1 Score: 0.5000\n",
      "\n",
      "Epoch 37/50\n",
      "Train Loss: 1.5691 | Train Acc: 54.31%\n",
      "Val Loss: 1.6181 | Val Acc: 51.81%\n",
      "Precision: 0.6383 | Recall: 0.4516 | F1 Score: 0.4595\n",
      "\n",
      "Epoch 38/50\n",
      "Train Loss: 1.5637 | Train Acc: 54.70%\n",
      "Val Loss: 1.5265 | Val Acc: 55.78%\n",
      "Precision: 0.5867 | Recall: 0.5078 | F1 Score: 0.5271\n",
      "\n",
      "Epoch 39/50\n",
      "Train Loss: 1.5545 | Train Acc: 55.18%\n",
      "Val Loss: 1.5559 | Val Acc: 54.22%\n",
      "Precision: 0.5444 | Recall: 0.5090 | F1 Score: 0.5106\n",
      "\n",
      "Epoch 40/50\n",
      "Train Loss: 1.5444 | Train Acc: 55.56%\n",
      "Val Loss: 1.5575 | Val Acc: 54.03%\n",
      "Precision: 0.6016 | Recall: 0.4805 | F1 Score: 0.5007\n",
      "\n",
      "Epoch 41/50\n",
      "Train Loss: 1.5330 | Train Acc: 56.29%\n",
      "Val Loss: 1.5540 | Val Acc: 54.10%\n",
      "Precision: 0.6233 | Recall: 0.4799 | F1 Score: 0.4805\n",
      "\n",
      "Epoch 42/50\n",
      "Train Loss: 1.5294 | Train Acc: 56.10%\n",
      "Val Loss: 1.5279 | Val Acc: 56.78%\n",
      "Precision: 0.5600 | Recall: 0.5643 | F1 Score: 0.5499\n",
      "\n",
      "Epoch 43/50\n",
      "Train Loss: 1.5171 | Train Acc: 57.07%\n",
      "Val Loss: 1.5208 | Val Acc: 57.08%\n",
      "Precision: 0.6080 | Recall: 0.5219 | F1 Score: 0.5412\n",
      "\n",
      "Epoch 44/50\n",
      "Train Loss: 1.5234 | Train Acc: 56.57%\n",
      "Val Loss: 1.5058 | Val Acc: 57.62%\n",
      "Precision: 0.6324 | Recall: 0.5230 | F1 Score: 0.5460\n",
      "\n",
      "Epoch 45/50\n",
      "Train Loss: 1.5317 | Train Acc: 55.88%\n",
      "Val Loss: 1.5327 | Val Acc: 57.58%\n",
      "Precision: 0.6046 | Recall: 0.5301 | F1 Score: 0.5481\n",
      "\n",
      "Epoch 46/50\n",
      "Train Loss: 1.5279 | Train Acc: 56.85%\n",
      "Val Loss: 1.5494 | Val Acc: 53.88%\n",
      "Precision: 0.5626 | Recall: 0.4968 | F1 Score: 0.4970\n",
      "\n",
      "Epoch 47/50\n",
      "Train Loss: 1.5110 | Train Acc: 58.15%\n",
      "Val Loss: 1.6257 | Val Acc: 53.15%\n",
      "Precision: 0.5929 | Recall: 0.4830 | F1 Score: 0.4879\n",
      "\n",
      "Epoch 48/50\n",
      "Train Loss: 1.5127 | Train Acc: 57.19%\n",
      "Val Loss: 1.5333 | Val Acc: 55.71%\n",
      "Precision: 0.6431 | Recall: 0.4922 | F1 Score: 0.5184\n",
      "\n",
      "Epoch 49/50\n",
      "Train Loss: 1.5020 | Train Acc: 57.73%\n",
      "Val Loss: 1.4805 | Val Acc: 59.03%\n",
      "Precision: 0.6168 | Recall: 0.5394 | F1 Score: 0.5607\n",
      "\n",
      "Epoch 50/50\n",
      "Train Loss: 1.5101 | Train Acc: 57.71%\n",
      "Val Loss: 1.5600 | Val Acc: 55.25%\n",
      "Precision: 0.5755 | Recall: 0.4849 | F1 Score: 0.4973\n",
      "\n",
      "######## Training Finished in 5481.529565572739 seconds ###########\n"
     ]
    }
   ],
   "source": [
    "t1 = time.time()\n",
    "print(f\"Using device: {device}\")\n",
    "\n",
    "train_losses, val_losses, train_accuracies, val_accuracies, conf_matrix = train_model(\n",
    "    model, train_loader, test_loader, criterion, optimizer, num_epochs=50)\n",
    "\n",
    "print(\"######## Training Finished in {} seconds ###########\".format(time.time()-t1))"
   ]
  },
  {
   "cell_type": "markdown",
   "id": "23960324-a0d4-481f-92a0-19e37618f8cb",
   "metadata": {},
   "source": [
    "## Evaluating"
   ]
  },
  {
   "cell_type": "code",
   "execution_count": 14,
   "id": "b464c0d5-b15a-4b0d-84ab-e30b56ebdb12",
   "metadata": {},
   "outputs": [
    {
     "name": "stdout",
     "output_type": "stream",
     "text": [
      "Test Accuracy of the model on the 2619 test images: 55.10%\n"
     ]
    }
   ],
   "source": [
    "model.eval() \n",
    "\n",
    "with torch.no_grad(): \n",
    "    correct = 0\n",
    "    total = 0\n",
    "    for data in test_loader:\n",
    "        images, labels = data[0].to(device), data[1].to(device)\n",
    "        outputs = model(images)\n",
    "        _, predicted = torch.max(outputs.data, 1)\n",
    "        total += labels.size(0)\n",
    "        correct += (predicted == labels).sum().item()\n",
    "    print(f'Test Accuracy of the model on the {total} test images: {(correct / total) * 100:.2f}%')"
   ]
  },
  {
   "cell_type": "code",
   "execution_count": 15,
   "id": "4f991644-b519-4832-95c4-4522d30f9ed9",
   "metadata": {},
   "outputs": [
    {
     "data": {
      "image/png": "[encoded data removed]",
      "text/plain": [
       "<Figure size 1200x500 with 2 Axes>"
      ]
     },
     "metadata": {},
     "output_type": "display_data"
    }
   ],
   "source": [
    "def plot_training(train_losses, val_losses, train_accuracies, val_accuracies):\n",
    "    epochs = range(1, len(train_losses) + 1)\n",
    "\n",
    "    plt.figure(figsize=(12, 5))\n",
    "    \n",
    "    # Plot loss\n",
    "    plt.subplot(1, 2, 1)\n",
    "    plt.plot(epochs, train_losses, label='Train Loss')\n",
    "    plt.plot(epochs, val_losses, label='Val Loss')\n",
    "    plt.xlabel('Epochs')\n",
    "    plt.ylabel('Loss')\n",
    "    plt.title('Training and Validation Loss')\n",
    "    plt.legend()\n",
    "\n",
    "    # Plot accuracy\n",
    "    plt.subplot(1, 2, 2)\n",
    "    plt.plot(epochs, train_accuracies, label='Train Accuracy')\n",
    "    plt.plot(epochs, val_accuracies, label='Val Accuracy')\n",
    "    plt.xlabel('Epochs')\n",
    "    plt.ylabel('Accuracy (%)')\n",
    "    plt.title('Training and Validation Accuracy')\n",
    "    plt.legend()\n",
    "\n",
    "    plt.show()\n",
    "\n",
    "plot_training(train_losses, val_losses, train_accuracies, val_accuracies)"
   ]
  },
  {
   "cell_type": "code",
   "execution_count": 16,
   "id": "67018e34-86a0-4050-8a9f-ad06eb23479f",
   "metadata": {},
   "outputs": [],
   "source": [
    "### Confusion Matrix"
   ]
  },
  {
   "cell_type": "code",
   "execution_count": 17,
   "id": "60ada500-b0a9-42db-8d4d-6d4d06c2eb9c",
   "metadata": {},
   "outputs": [
    {
     "data": {
      "text/plain": [
       "<sklearn.metrics._plot.confusion_matrix.ConfusionMatrixDisplay at 0x7fdaea324c20>"
      ]
     },
     "execution_count": 17,
     "metadata": {},
     "output_type": "execute_result"
    },
    {
     "data": {
      "image/png": "[encoded data removed]",
      "text/plain": [
       "<Figure size 640x480 with 2 Axes>"
      ]
     },
     "metadata": {},
     "output_type": "display_data"
    }
   ],
   "source": [
    "cm = conf_matrix.cpu().numpy()\n",
    "disp = ConfusionMatrixDisplay(cm, display_labels=classes,)\n",
    "disp.plot()"
   ]
  },
  {
   "cell_type": "markdown",
   "id": "312529f9-800f-4dec-b17f-6fef87826e89",
   "metadata": {},
   "source": [
    "### Metrics"
   ]
  },
  {
   "cell_type": "code",
   "execution_count": 18,
   "id": "c43bc575-866e-440a-8c38-92e3981e232b",
   "metadata": {},
   "outputs": [
    {
     "name": "stdout",
     "output_type": "stream",
     "text": [
      "Class 0-butterfly: Precision: 0.66, Recall: 0.80, F1-Score: 0.72\n",
      "Class 1-cat: Precision: 0.62, Recall: 0.10, F1-Score: 0.18\n",
      "Class 2-cow: Precision: 0.60, Recall: 0.42, F1-Score: 0.50\n",
      "Class 3-dog: Precision: 0.57, Recall: 0.76, F1-Score: 0.65\n",
      "Class 4-elephant: Precision: 0.57, Recall: 0.67, F1-Score: 0.62\n",
      "Class 5-hen: Precision: 0.81, Recall: 0.70, F1-Score: 0.75\n",
      "Class 6-horse: Precision: 0.58, Recall: 0.71, F1-Score: 0.64\n",
      "Class 7-sheep: Precision: 0.80, Recall: 0.33, F1-Score: 0.47\n",
      "Class 8-spider: Precision: 0.75, Recall: 0.85, F1-Score: 0.80\n",
      "Class 9-squirrel: Precision: 0.55, Recall: 0.48, F1-Score: 0.51\n"
     ]
    }
   ],
   "source": [
    "precision = MulticlassPrecision(num_classes=num_classes, average=None)\n",
    "recall = MulticlassRecall(num_classes=num_classes, average=None)\n",
    "f1_score = MulticlassF1Score(num_classes=num_classes, average=None)\n",
    "\n",
    "\n",
    "all_preds = []\n",
    "all_labels = []\n",
    "\n",
    "model.eval()\n",
    "with torch.no_grad():\n",
    "    for inputs, labels in val_loader:\n",
    "        inputs, labels = inputs.to(device), labels.to(device)\n",
    "        outputs = model(inputs)\n",
    "        _, preds = torch.max(outputs, 1)\n",
    "        all_preds.append(preds.cpu())\n",
    "        all_labels.append(labels.cpu())\n",
    "\n",
    "\n",
    "all_preds = torch.cat(all_preds)\n",
    "all_labels = torch.cat(all_labels)\n",
    "\n",
    "\n",
    "per_class_precision = precision(all_preds, all_labels)\n",
    "per_class_recall = recall(all_preds, all_labels)\n",
    "per_class_f1 = f1_score(all_preds, all_labels)\n",
    "\n",
    "\n",
    "for i, name in enumerate(classes):\n",
    "    print(f\"Class {i}-{name}: Precision: {per_class_precision[i]:.2f}, Recall: {per_class_recall[i]:.2f}, F1-Score: {per_class_f1[i]:.2f}\")"
   ]
  },
  {
   "cell_type": "code",
   "execution_count": null,
   "id": "54cffd78-3656-49c2-bb3b-5dc063e0874c",
   "metadata": {},
   "outputs": [],
   "source": []
  }
 ],
 "metadata": {
  "kernelspec": {
   "display_name": "Python 3 (ipykernel)",
   "language": "python",
   "name": "python3"
  },
  "language_info": {
   "codemirror_mode": {
    "name": "ipython",
    "version": 3
   },
   "file_extension": ".py",
   "mimetype": "text/x-python",
   "name": "python",
   "nbconvert_exporter": "python",
   "pygments_lexer": "ipython3",
   "version": "3.13.1"
  }
 },
 "nbformat": 4,
 "nbformat_minor": 5
}
